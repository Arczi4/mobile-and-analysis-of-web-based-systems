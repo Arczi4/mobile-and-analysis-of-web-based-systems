{
 "cells": [
  {
   "cell_type": "code",
   "execution_count": 136,
   "metadata": {},
   "outputs": [],
   "source": [
    "import pandas as pd\n",
    "import numpy as np\n",
    "import os"
   ]
  },
  {
   "cell_type": "code",
   "execution_count": 137,
   "metadata": {},
   "outputs": [],
   "source": [
    "path = os.path.join('logTest.xlsx')\n",
    "\n",
    "df = pd.read_excel(path)"
   ]
  },
  {
   "cell_type": "code",
   "execution_count": 138,
   "metadata": {},
   "outputs": [
    {
     "name": "stdout",
     "output_type": "stream",
     "text": [
      "<class 'pandas.core.frame.DataFrame'>\n",
      "RangeIndex: 718 entries, 0 to 717\n",
      "Data columns (total 24 columns):\n",
      " #   Column           Non-Null Count  Dtype  \n",
      "---  ------           --------------  -----  \n",
      " 0   sessionNo        718 non-null    int64  \n",
      " 1   startHour        718 non-null    int64  \n",
      " 2   startWeekday     718 non-null    int64  \n",
      " 3   duration         718 non-null    float64\n",
      " 4   cCount           718 non-null    int64  \n",
      " 5   cMinPrice        718 non-null    object \n",
      " 6   cMaxPrice        718 non-null    object \n",
      " 7   cSumPrice        718 non-null    object \n",
      " 8   bCount           718 non-null    int64  \n",
      " 9   bMinPrice        718 non-null    object \n",
      " 10  bMaxPrice        718 non-null    object \n",
      " 11  bSumPrice        718 non-null    object \n",
      " 12  bStep            718 non-null    object \n",
      " 13  onlineStatus     718 non-null    object \n",
      " 14  availability     718 non-null    object \n",
      " 15  customerNo       718 non-null    object \n",
      " 16  maxVal           718 non-null    object \n",
      " 17  customerScore    718 non-null    object \n",
      " 18  accountLifetime  718 non-null    object \n",
      " 19  payments         718 non-null    object \n",
      " 20  age              718 non-null    object \n",
      " 21  address          718 non-null    object \n",
      " 22  lastOrder        718 non-null    object \n",
      " 23  order            718 non-null    object \n",
      "dtypes: float64(1), int64(5), object(18)\n",
      "memory usage: 134.8+ KB\n"
     ]
    }
   ],
   "source": [
    "df.info()"
   ]
  },
  {
   "cell_type": "code",
   "execution_count": 139,
   "metadata": {},
   "outputs": [
    {
     "data": {
      "text/html": [
       "<div>\n",
       "<style scoped>\n",
       "    .dataframe tbody tr th:only-of-type {\n",
       "        vertical-align: middle;\n",
       "    }\n",
       "\n",
       "    .dataframe tbody tr th {\n",
       "        vertical-align: top;\n",
       "    }\n",
       "\n",
       "    .dataframe thead th {\n",
       "        text-align: right;\n",
       "    }\n",
       "</style>\n",
       "<table border=\"1\" class=\"dataframe\">\n",
       "  <thead>\n",
       "    <tr style=\"text-align: right;\">\n",
       "      <th></th>\n",
       "      <th>sessionNo</th>\n",
       "      <th>startHour</th>\n",
       "      <th>startWeekday</th>\n",
       "      <th>duration</th>\n",
       "      <th>cCount</th>\n",
       "      <th>bCount</th>\n",
       "    </tr>\n",
       "  </thead>\n",
       "  <tbody>\n",
       "    <tr>\n",
       "      <th>count</th>\n",
       "      <td>718.000000</td>\n",
       "      <td>718.0</td>\n",
       "      <td>718.0</td>\n",
       "      <td>718.000000</td>\n",
       "      <td>718.000000</td>\n",
       "      <td>718.000000</td>\n",
       "    </tr>\n",
       "    <tr>\n",
       "      <th>mean</th>\n",
       "      <td>48.190808</td>\n",
       "      <td>6.0</td>\n",
       "      <td>5.0</td>\n",
       "      <td>1508.121380</td>\n",
       "      <td>25.614206</td>\n",
       "      <td>3.215877</td>\n",
       "    </tr>\n",
       "    <tr>\n",
       "      <th>std</th>\n",
       "      <td>29.864615</td>\n",
       "      <td>0.0</td>\n",
       "      <td>0.0</td>\n",
       "      <td>2202.972457</td>\n",
       "      <td>36.899051</td>\n",
       "      <td>3.326815</td>\n",
       "    </tr>\n",
       "    <tr>\n",
       "      <th>min</th>\n",
       "      <td>1.000000</td>\n",
       "      <td>6.0</td>\n",
       "      <td>5.0</td>\n",
       "      <td>0.000000</td>\n",
       "      <td>0.000000</td>\n",
       "      <td>0.000000</td>\n",
       "    </tr>\n",
       "    <tr>\n",
       "      <th>25%</th>\n",
       "      <td>22.000000</td>\n",
       "      <td>6.0</td>\n",
       "      <td>5.0</td>\n",
       "      <td>99.967500</td>\n",
       "      <td>2.000000</td>\n",
       "      <td>1.000000</td>\n",
       "    </tr>\n",
       "    <tr>\n",
       "      <th>50%</th>\n",
       "      <td>45.000000</td>\n",
       "      <td>6.0</td>\n",
       "      <td>5.0</td>\n",
       "      <td>469.699000</td>\n",
       "      <td>11.000000</td>\n",
       "      <td>2.000000</td>\n",
       "    </tr>\n",
       "    <tr>\n",
       "      <th>75%</th>\n",
       "      <td>73.000000</td>\n",
       "      <td>6.0</td>\n",
       "      <td>5.0</td>\n",
       "      <td>1864.959250</td>\n",
       "      <td>30.750000</td>\n",
       "      <td>5.000000</td>\n",
       "    </tr>\n",
       "    <tr>\n",
       "      <th>max</th>\n",
       "      <td>100.000000</td>\n",
       "      <td>6.0</td>\n",
       "      <td>5.0</td>\n",
       "      <td>8794.127000</td>\n",
       "      <td>162.000000</td>\n",
       "      <td>15.000000</td>\n",
       "    </tr>\n",
       "  </tbody>\n",
       "</table>\n",
       "</div>"
      ],
      "text/plain": [
       "        sessionNo  startHour  startWeekday     duration      cCount  \\\n",
       "count  718.000000      718.0         718.0   718.000000  718.000000   \n",
       "mean    48.190808        6.0           5.0  1508.121380   25.614206   \n",
       "std     29.864615        0.0           0.0  2202.972457   36.899051   \n",
       "min      1.000000        6.0           5.0     0.000000    0.000000   \n",
       "25%     22.000000        6.0           5.0    99.967500    2.000000   \n",
       "50%     45.000000        6.0           5.0   469.699000   11.000000   \n",
       "75%     73.000000        6.0           5.0  1864.959250   30.750000   \n",
       "max    100.000000        6.0           5.0  8794.127000  162.000000   \n",
       "\n",
       "           bCount  \n",
       "count  718.000000  \n",
       "mean     3.215877  \n",
       "std      3.326815  \n",
       "min      0.000000  \n",
       "25%      1.000000  \n",
       "50%      2.000000  \n",
       "75%      5.000000  \n",
       "max     15.000000  "
      ]
     },
     "execution_count": 139,
     "metadata": {},
     "output_type": "execute_result"
    }
   ],
   "source": [
    "df.describe()"
   ]
  },
  {
   "cell_type": "code",
   "execution_count": 140,
   "metadata": {},
   "outputs": [],
   "source": [
    "df = df.replace('?', None)"
   ]
  },
  {
   "cell_type": "code",
   "execution_count": 141,
   "metadata": {},
   "outputs": [
    {
     "data": {
      "text/plain": [
       "sessionNo            0\n",
       "startHour            0\n",
       "startWeekday         0\n",
       "duration             0\n",
       "cCount               0\n",
       "cMinPrice           88\n",
       "cMaxPrice           88\n",
       "cSumPrice           88\n",
       "bCount               0\n",
       "bMinPrice           94\n",
       "bMaxPrice           94\n",
       "bSumPrice           94\n",
       "bStep              322\n",
       "onlineStatus       261\n",
       "availability       269\n",
       "customerNo         385\n",
       "maxVal             385\n",
       "customerScore      385\n",
       "accountLifetime    385\n",
       "payments           385\n",
       "age                385\n",
       "address            385\n",
       "lastOrder          385\n",
       "order                0\n",
       "dtype: int64"
      ]
     },
     "execution_count": 141,
     "metadata": {},
     "output_type": "execute_result"
    }
   ],
   "source": [
    "df.isnull().sum()"
   ]
  },
  {
   "cell_type": "code",
   "execution_count": 142,
   "metadata": {},
   "outputs": [],
   "source": [
    "df = df[df['cCount'] != 0]"
   ]
  },
  {
   "cell_type": "code",
   "execution_count": 143,
   "metadata": {},
   "outputs": [
    {
     "data": {
      "text/plain": [
       "sessionNo            0\n",
       "startHour            0\n",
       "startWeekday         0\n",
       "duration             0\n",
       "cCount               0\n",
       "cMinPrice            6\n",
       "cMaxPrice            6\n",
       "cSumPrice            6\n",
       "bCount               0\n",
       "bMinPrice           12\n",
       "bMaxPrice           12\n",
       "bSumPrice           12\n",
       "bStep              304\n",
       "onlineStatus       261\n",
       "availability       269\n",
       "customerNo         303\n",
       "maxVal             303\n",
       "customerScore      303\n",
       "accountLifetime    303\n",
       "payments           303\n",
       "age                303\n",
       "address            303\n",
       "lastOrder          303\n",
       "order                0\n",
       "dtype: int64"
      ]
     },
     "execution_count": 143,
     "metadata": {},
     "output_type": "execute_result"
    }
   ],
   "source": [
    "df.isnull().sum()"
   ]
  },
  {
   "cell_type": "code",
   "execution_count": 144,
   "metadata": {},
   "outputs": [],
   "source": [
    "df.drop(columns=['bStep', 'onlineStatus', 'availability', 'customerNo', 'maxVal', 'customerScore', 'accountLifetime', 'payments', 'age', 'lastOrder'],\n",
    "        axis=1,\n",
    "        inplace=True)"
   ]
  },
  {
   "cell_type": "code",
   "execution_count": 145,
   "metadata": {},
   "outputs": [],
   "source": [
    "df.drop(columns=['address'], axis=1, inplace=True)"
   ]
  },
  {
   "cell_type": "code",
   "execution_count": 146,
   "metadata": {},
   "outputs": [
    {
     "data": {
      "text/plain": [
       "sessionNo        0\n",
       "startHour        0\n",
       "startWeekday     0\n",
       "duration         0\n",
       "cCount           0\n",
       "cMinPrice        6\n",
       "cMaxPrice        6\n",
       "cSumPrice        6\n",
       "bCount           0\n",
       "bMinPrice       12\n",
       "bMaxPrice       12\n",
       "bSumPrice       12\n",
       "order            0\n",
       "dtype: int64"
      ]
     },
     "execution_count": 146,
     "metadata": {},
     "output_type": "execute_result"
    }
   ],
   "source": [
    "df.isnull().sum()"
   ]
  },
  {
   "cell_type": "code",
   "execution_count": 147,
   "metadata": {},
   "outputs": [
    {
     "data": {
      "text/plain": [
       "array([False, False, False, False, False, False, False, False, False,\n",
       "       False, False, False, False])"
      ]
     },
     "execution_count": 147,
     "metadata": {},
     "output_type": "execute_result"
    }
   ],
   "source": [
    "df.columns.isna()"
   ]
  },
  {
   "cell_type": "code",
   "execution_count": 148,
   "metadata": {},
   "outputs": [],
   "source": [
    "nan_cols = [i for i in df.columns if df[i].isnull().any()]"
   ]
  },
  {
   "cell_type": "code",
   "execution_count": 149,
   "metadata": {},
   "outputs": [
    {
     "data": {
      "text/plain": [
       "['cMinPrice', 'cMaxPrice', 'cSumPrice', 'bMinPrice', 'bMaxPrice', 'bSumPrice']"
      ]
     },
     "execution_count": 149,
     "metadata": {},
     "output_type": "execute_result"
    }
   ],
   "source": [
    "nan_cols"
   ]
  },
  {
   "cell_type": "code",
   "execution_count": 150,
   "metadata": {},
   "outputs": [
    {
     "data": {
      "text/plain": [
       "array(['59.99', '29.99', '9.99', '4.99', '27.85', '19.99', '12.99',\n",
       "       '129.99', '99.99', '3.0', '499.99', '12.0', '5.0', '5.99', '14.99',\n",
       "       '199.99', '79.99', '2.99', '1.99', '0.8', '49.99', '29.0', '13.99',\n",
       "       '6.99', '6.96', '34.99', '16.99', '7.99', '24.99', '27.99', '6.0',\n",
       "       '139.99', '10.0', '699.0', '10.99', '7.0', '3.99', '8.99', '15.99',\n",
       "       '169.0', '47.99', '39.99', '189.99', None, '89.99', '49.95',\n",
       "       '4.95', '599.99', '8.0', '49.0', '15.95', '35.99', '1.0'],\n",
       "      dtype=object)"
      ]
     },
     "execution_count": 150,
     "metadata": {},
     "output_type": "execute_result"
    }
   ],
   "source": [
    "df['cMinPrice'].unique()"
   ]
  },
  {
   "cell_type": "code",
   "execution_count": 151,
   "metadata": {},
   "outputs": [],
   "source": [
    "for col in nan_cols:\n",
    "    df[col] = df[col].astype('float64')\n",
    "    # m = df[col].mean()\n",
    "    # df[col].fillna(m)"
   ]
  },
  {
   "cell_type": "code",
   "execution_count": 152,
   "metadata": {},
   "outputs": [],
   "source": [
    "for col in nan_cols:\n",
    "    m = df[col].mean()\n",
    "    df[col] = df[col].fillna(m)"
   ]
  },
  {
   "cell_type": "code",
   "execution_count": 153,
   "metadata": {},
   "outputs": [
    {
     "data": {
      "text/plain": [
       "sessionNo       0\n",
       "startHour       0\n",
       "startWeekday    0\n",
       "duration        0\n",
       "cCount          0\n",
       "cMinPrice       0\n",
       "cMaxPrice       0\n",
       "cSumPrice       0\n",
       "bCount          0\n",
       "bMinPrice       0\n",
       "bMaxPrice       0\n",
       "bSumPrice       0\n",
       "order           0\n",
       "dtype: int64"
      ]
     },
     "execution_count": 153,
     "metadata": {},
     "output_type": "execute_result"
    }
   ],
   "source": [
    "df.isnull().sum()"
   ]
  },
  {
   "cell_type": "code",
   "execution_count": 155,
   "metadata": {},
   "outputs": [
    {
     "data": {
      "text/html": [
       "<div>\n",
       "<style scoped>\n",
       "    .dataframe tbody tr th:only-of-type {\n",
       "        vertical-align: middle;\n",
       "    }\n",
       "\n",
       "    .dataframe tbody tr th {\n",
       "        vertical-align: top;\n",
       "    }\n",
       "\n",
       "    .dataframe thead th {\n",
       "        text-align: right;\n",
       "    }\n",
       "</style>\n",
       "<table border=\"1\" class=\"dataframe\">\n",
       "  <thead>\n",
       "    <tr style=\"text-align: right;\">\n",
       "      <th></th>\n",
       "      <th>cMinPrice</th>\n",
       "      <th>cMaxPrice</th>\n",
       "      <th>cSumPrice</th>\n",
       "      <th>bMinPrice</th>\n",
       "      <th>bMaxPrice</th>\n",
       "      <th>bSumPrice</th>\n",
       "    </tr>\n",
       "  </thead>\n",
       "  <tbody>\n",
       "    <tr>\n",
       "      <th>0</th>\n",
       "      <td>59.99</td>\n",
       "      <td>59.99</td>\n",
       "      <td>59.99</td>\n",
       "      <td>59.99</td>\n",
       "      <td>59.99</td>\n",
       "      <td>59.99</td>\n",
       "    </tr>\n",
       "    <tr>\n",
       "      <th>1</th>\n",
       "      <td>59.99</td>\n",
       "      <td>59.99</td>\n",
       "      <td>59.99</td>\n",
       "      <td>59.99</td>\n",
       "      <td>59.99</td>\n",
       "      <td>59.99</td>\n",
       "    </tr>\n",
       "    <tr>\n",
       "      <th>2</th>\n",
       "      <td>59.99</td>\n",
       "      <td>59.99</td>\n",
       "      <td>59.99</td>\n",
       "      <td>59.99</td>\n",
       "      <td>59.99</td>\n",
       "      <td>59.99</td>\n",
       "    </tr>\n",
       "    <tr>\n",
       "      <th>8</th>\n",
       "      <td>29.99</td>\n",
       "      <td>29.99</td>\n",
       "      <td>89.97</td>\n",
       "      <td>29.99</td>\n",
       "      <td>29.99</td>\n",
       "      <td>29.99</td>\n",
       "    </tr>\n",
       "    <tr>\n",
       "      <th>9</th>\n",
       "      <td>9.99</td>\n",
       "      <td>29.99</td>\n",
       "      <td>109.95</td>\n",
       "      <td>9.99</td>\n",
       "      <td>29.99</td>\n",
       "      <td>39.98</td>\n",
       "    </tr>\n",
       "    <tr>\n",
       "      <th>...</th>\n",
       "      <td>...</td>\n",
       "      <td>...</td>\n",
       "      <td>...</td>\n",
       "      <td>...</td>\n",
       "      <td>...</td>\n",
       "      <td>...</td>\n",
       "    </tr>\n",
       "    <tr>\n",
       "      <th>713</th>\n",
       "      <td>49.99</td>\n",
       "      <td>49.99</td>\n",
       "      <td>49.99</td>\n",
       "      <td>49.99</td>\n",
       "      <td>49.99</td>\n",
       "      <td>49.99</td>\n",
       "    </tr>\n",
       "    <tr>\n",
       "      <th>714</th>\n",
       "      <td>49.99</td>\n",
       "      <td>49.99</td>\n",
       "      <td>49.99</td>\n",
       "      <td>49.99</td>\n",
       "      <td>49.99</td>\n",
       "      <td>49.99</td>\n",
       "    </tr>\n",
       "    <tr>\n",
       "      <th>715</th>\n",
       "      <td>49.99</td>\n",
       "      <td>49.99</td>\n",
       "      <td>49.99</td>\n",
       "      <td>49.99</td>\n",
       "      <td>49.99</td>\n",
       "      <td>49.99</td>\n",
       "    </tr>\n",
       "    <tr>\n",
       "      <th>716</th>\n",
       "      <td>49.99</td>\n",
       "      <td>49.99</td>\n",
       "      <td>49.99</td>\n",
       "      <td>49.99</td>\n",
       "      <td>49.99</td>\n",
       "      <td>49.99</td>\n",
       "    </tr>\n",
       "    <tr>\n",
       "      <th>717</th>\n",
       "      <td>49.99</td>\n",
       "      <td>49.99</td>\n",
       "      <td>49.99</td>\n",
       "      <td>49.99</td>\n",
       "      <td>49.99</td>\n",
       "      <td>49.99</td>\n",
       "    </tr>\n",
       "  </tbody>\n",
       "</table>\n",
       "<p>636 rows × 6 columns</p>\n",
       "</div>"
      ],
      "text/plain": [
       "     cMinPrice  cMaxPrice  cSumPrice  bMinPrice  bMaxPrice  bSumPrice\n",
       "0        59.99      59.99      59.99      59.99      59.99      59.99\n",
       "1        59.99      59.99      59.99      59.99      59.99      59.99\n",
       "2        59.99      59.99      59.99      59.99      59.99      59.99\n",
       "8        29.99      29.99      89.97      29.99      29.99      29.99\n",
       "9         9.99      29.99     109.95       9.99      29.99      39.98\n",
       "..         ...        ...        ...        ...        ...        ...\n",
       "713      49.99      49.99      49.99      49.99      49.99      49.99\n",
       "714      49.99      49.99      49.99      49.99      49.99      49.99\n",
       "715      49.99      49.99      49.99      49.99      49.99      49.99\n",
       "716      49.99      49.99      49.99      49.99      49.99      49.99\n",
       "717      49.99      49.99      49.99      49.99      49.99      49.99\n",
       "\n",
       "[636 rows x 6 columns]"
      ]
     },
     "execution_count": 155,
     "metadata": {},
     "output_type": "execute_result"
    }
   ],
   "source": [
    "df[nan_cols].round(2)"
   ]
  },
  {
   "cell_type": "code",
   "execution_count": 158,
   "metadata": {},
   "outputs": [],
   "source": [
    "df.to_excel('processed.xlsx')"
   ]
  },
  {
   "cell_type": "code",
   "execution_count": null,
   "metadata": {},
   "outputs": [],
   "source": []
  }
 ],
 "metadata": {
  "kernelspec": {
   "display_name": ".venv",
   "language": "python",
   "name": "python3"
  },
  "language_info": {
   "codemirror_mode": {
    "name": "ipython",
    "version": 3
   },
   "file_extension": ".py",
   "mimetype": "text/x-python",
   "name": "python",
   "nbconvert_exporter": "python",
   "pygments_lexer": "ipython3",
   "version": "3.10.9"
  },
  "orig_nbformat": 4,
  "vscode": {
   "interpreter": {
    "hash": "772eb84ec0be84ed7f89db98ecc2ac64808a4cd305cda79b28b9eb0e0e28b592"
   }
  }
 },
 "nbformat": 4,
 "nbformat_minor": 2
}
