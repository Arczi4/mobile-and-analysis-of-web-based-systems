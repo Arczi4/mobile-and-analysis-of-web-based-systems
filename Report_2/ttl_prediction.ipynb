{
 "cells": [
  {
   "cell_type": "code",
   "execution_count": 2,
   "metadata": {},
   "outputs": [],
   "source": [
    "import pandas as pd\n",
    "import os\n",
    "from sklearn.ensemble import RandomForestRegressor\n",
    "from sklearn.model_selection import train_test_split\n",
    "from sklearn.metrics import mean_absolute_error, mean_squared_error, r2_score"
   ]
  },
  {
   "cell_type": "code",
   "execution_count": 3,
   "metadata": {},
   "outputs": [],
   "source": [
    "df = pd.read_csv(os.path.join('data', 'processed.csv'))\n",
    "df = df.drop(['timestamp'], axis=1)"
   ]
  },
  {
   "cell_type": "code",
   "execution_count": 4,
   "metadata": {},
   "outputs": [],
   "source": [
    "X = df.drop('ttl', axis=1)\n",
    "y = df['ttl']\n",
    "\n",
    "X_train, X_test, y_train, y_test = train_test_split(X, y, test_size=0.2, random_state=42)"
   ]
  },
  {
   "cell_type": "code",
   "execution_count": 5,
   "metadata": {},
   "outputs": [],
   "source": [
    "def train_model(regressor,**kwargs):\n",
    "    model = regressor(**kwargs)\n",
    "    model.fit(X_train, y_train)\n",
    "\n",
    "    y_pred = model.predict(X_test)\n",
    "    mae = mean_absolute_error(y_test, y_pred)\n",
    "    mse = mean_squared_error(y_test, y_pred)\n",
    "    rmse = mean_squared_error(y_test, y_pred, squared=False)\n",
    "    r2 = r2_score(y_test, y_pred)\n",
    "\n",
    "    print('MAE: {:.2f}'.format(mae))\n",
    "    print('MSE: {:.2f}'.format(mse))\n",
    "    print('RMSE: {:.2f}'.format(rmse))\n",
    "    print('R2: {:.2f}'.format(r2))\n",
    "    \n",
    "    return model"
   ]
  },
  {
   "cell_type": "code",
   "execution_count": 6,
   "metadata": {},
   "outputs": [
    {
     "name": "stdout",
     "output_type": "stream",
     "text": [
      "MAE: 11.34\n",
      "MSE: 625.24\n",
      "RMSE: 25.00\n",
      "R2: 0.50\n"
     ]
    }
   ],
   "source": [
    "rf_regressor = train_model(RandomForestRegressor, n_estimators=100, random_state=42)"
   ]
  },
  {
   "cell_type": "code",
   "execution_count": 7,
   "metadata": {},
   "outputs": [
    {
     "name": "stderr",
     "output_type": "stream",
     "text": [
      "d:\\Studia II\\Sem_II\\MaAoWbS\\mobile-and-analysis-of-web-based-systems\\.venv\\lib\\site-packages\\sklearn\\svm\\_base.py:299: ConvergenceWarning: Solver terminated early (max_iter=5000).  Consider pre-processing your data with StandardScaler or MinMaxScaler.\n",
      "  warnings.warn(\n"
     ]
    },
    {
     "name": "stdout",
     "output_type": "stream",
     "text": [
      "MAE: 519399690758295.44\n",
      "MSE: 270532025223538992828483895296.00\n",
      "RMSE: 520126931838314.81\n",
      "R2: -214929882016426668568084480.00\n"
     ]
    }
   ],
   "source": [
    "from sklearn.svm import SVR\n",
    "\n",
    "svr = train_model(SVR, kernel='linear', max_iter=5000)"
   ]
  },
  {
   "cell_type": "code",
   "execution_count": 8,
   "metadata": {},
   "outputs": [
    {
     "name": "stderr",
     "output_type": "stream",
     "text": [
      "d:\\Studia II\\Sem_II\\MaAoWbS\\mobile-and-analysis-of-web-based-systems\\.venv\\lib\\site-packages\\sklearn\\svm\\_base.py:299: ConvergenceWarning: Solver terminated early (max_iter=5000).  Consider pre-processing your data with StandardScaler or MinMaxScaler.\n",
      "  warnings.warn(\n"
     ]
    },
    {
     "name": "stdout",
     "output_type": "stream",
     "text": [
      "MAE: 31.39\n",
      "MSE: 1261.61\n",
      "RMSE: 35.52\n",
      "R2: -0.00\n"
     ]
    }
   ],
   "source": [
    "svr = train_model(SVR, kernel='poly', max_iter=5000)"
   ]
  },
  {
   "cell_type": "code",
   "execution_count": 9,
   "metadata": {},
   "outputs": [
    {
     "name": "stderr",
     "output_type": "stream",
     "text": [
      "d:\\Studia II\\Sem_II\\MaAoWbS\\mobile-and-analysis-of-web-based-systems\\.venv\\lib\\site-packages\\sklearn\\svm\\_base.py:299: ConvergenceWarning: Solver terminated early (max_iter=5000).  Consider pre-processing your data with StandardScaler or MinMaxScaler.\n",
      "  warnings.warn(\n"
     ]
    },
    {
     "name": "stdout",
     "output_type": "stream",
     "text": [
      "MAE: 31.39\n",
      "MSE: 1261.86\n",
      "RMSE: 35.52\n",
      "R2: -0.00\n"
     ]
    }
   ],
   "source": [
    "svr = train_model(SVR, kernel='rbf', max_iter=5000)\n"
   ]
  },
  {
   "cell_type": "code",
   "execution_count": 10,
   "metadata": {},
   "outputs": [
    {
     "name": "stderr",
     "output_type": "stream",
     "text": [
      "d:\\Studia II\\Sem_II\\MaAoWbS\\mobile-and-analysis-of-web-based-systems\\.venv\\lib\\site-packages\\sklearn\\svm\\_base.py:299: ConvergenceWarning: Solver terminated early (max_iter=5000).  Consider pre-processing your data with StandardScaler or MinMaxScaler.\n",
      "  warnings.warn(\n"
     ]
    },
    {
     "name": "stdout",
     "output_type": "stream",
     "text": [
      "MAE: 27.94\n",
      "MSE: 1801.78\n",
      "RMSE: 42.45\n",
      "R2: -0.43\n"
     ]
    }
   ],
   "source": [
    "svr = train_model(SVR, kernel='sigmoid', max_iter=5000)"
   ]
  },
  {
   "cell_type": "code",
   "execution_count": 11,
   "metadata": {},
   "outputs": [
    {
     "name": "stdout",
     "output_type": "stream",
     "text": [
      "MAE: 73846003182902464013664256.00\n",
      "MSE: 5454574899905154221735025947173190474511445764603904.00\n",
      "RMSE: 73855093933358141080076288.00\n",
      "R2: -4333502248828656672028375889194008326261543272448.00\n"
     ]
    }
   ],
   "source": [
    "from sklearn.linear_model import SGDRegressor\n",
    "\n",
    "sgd = train_model(SGDRegressor)"
   ]
  },
  {
   "cell_type": "code",
   "execution_count": 21,
   "metadata": {},
   "outputs": [
    {
     "name": "stdout",
     "output_type": "stream",
     "text": [
      "MAE: 31.73\n",
      "MSE: 1258.72\n",
      "RMSE: 35.48\n",
      "R2: -0.00\n"
     ]
    }
   ],
   "source": [
    "from sklearn.neural_network import MLPRegressor\n",
    "\n",
    "mlp_reg = train_model(MLPRegressor, learning_rate_init=0.9, max_iter=5000)"
   ]
  }
 ],
 "metadata": {
  "kernelspec": {
   "display_name": ".venv",
   "language": "python",
   "name": "python3"
  },
  "language_info": {
   "codemirror_mode": {
    "name": "ipython",
    "version": 3
   },
   "file_extension": ".py",
   "mimetype": "text/x-python",
   "name": "python",
   "nbconvert_exporter": "python",
   "pygments_lexer": "ipython3",
   "version": "3.10.9"
  },
  "orig_nbformat": 4
 },
 "nbformat": 4,
 "nbformat_minor": 2
}
