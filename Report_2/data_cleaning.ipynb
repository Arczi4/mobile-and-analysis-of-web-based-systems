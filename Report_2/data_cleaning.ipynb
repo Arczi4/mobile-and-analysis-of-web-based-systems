{
 "cells": [
  {
   "cell_type": "code",
   "execution_count": 1,
   "metadata": {},
   "outputs": [],
   "source": [
    "import pandas as pd\n",
    "import numpy as np\n",
    "import matplotlib.pyplot as plt\n",
    "import os\n",
    "\n",
    "directory = 'data/raw/'\n",
    "df_list = []"
   ]
  },
  {
   "cell_type": "code",
   "execution_count": 2,
   "metadata": {},
   "outputs": [],
   "source": [
    "for filename in os.listdir(directory):\n",
    "    f = os.path.join(directory, filename)\n",
    "    # checking if it is a file\n",
    "    if os.path.isfile(f):\n",
    "        df_list.append(pd.read_json(f))"
   ]
  },
  {
   "cell_type": "code",
   "execution_count": 3,
   "metadata": {},
   "outputs": [],
   "source": [
    "columns = []\n",
    "for df in df_list:\n",
    "    columns.append(df.columns)"
   ]
  },
  {
   "cell_type": "code",
   "execution_count": 4,
   "metadata": {},
   "outputs": [],
   "source": [
    "df = pd.concat(df_list, axis=0)"
   ]
  },
  {
   "cell_type": "code",
   "execution_count": 5,
   "metadata": {},
   "outputs": [],
   "source": [
    "df: pd.DataFrame"
   ]
  },
  {
   "cell_type": "code",
   "execution_count": 6,
   "metadata": {},
   "outputs": [],
   "source": [
    "df.to_csv('data/merged.csv', index=False)"
   ]
  },
  {
   "cell_type": "code",
   "execution_count": null,
   "metadata": {},
   "outputs": [],
   "source": []
  },
  {
   "cell_type": "code",
   "execution_count": 7,
   "metadata": {},
   "outputs": [],
   "source": [
    "def check_nan(df: pd.DataFrame):\n",
    "    return df.isna().sum()\n"
   ]
  },
  {
   "cell_type": "code",
   "execution_count": 8,
   "metadata": {},
   "outputs": [
    {
     "data": {
      "text/html": [
       "<div>\n",
       "<style scoped>\n",
       "    .dataframe tbody tr th:only-of-type {\n",
       "        vertical-align: middle;\n",
       "    }\n",
       "\n",
       "    .dataframe tbody tr th {\n",
       "        vertical-align: top;\n",
       "    }\n",
       "\n",
       "    .dataframe thead th {\n",
       "        text-align: right;\n",
       "    }\n",
       "</style>\n",
       "<table border=\"1\" class=\"dataframe\">\n",
       "  <thead>\n",
       "    <tr style=\"text-align: right;\">\n",
       "      <th></th>\n",
       "      <th>fw</th>\n",
       "      <th>lts</th>\n",
       "      <th>ttr</th>\n",
       "      <th>af</th>\n",
       "      <th>ttl</th>\n",
       "      <th>size</th>\n",
       "      <th>dup</th>\n",
       "      <th>rcvd</th>\n",
       "      <th>sent</th>\n",
       "      <th>min</th>\n",
       "      <th>max</th>\n",
       "      <th>avg</th>\n",
       "      <th>msm_id</th>\n",
       "      <th>prb_id</th>\n",
       "      <th>timestamp</th>\n",
       "      <th>group_id</th>\n",
       "      <th>step</th>\n",
       "      <th>stored_timestamp</th>\n",
       "    </tr>\n",
       "  </thead>\n",
       "  <tbody>\n",
       "    <tr>\n",
       "      <th>count</th>\n",
       "      <td>13575.000000</td>\n",
       "      <td>1.357500e+04</td>\n",
       "      <td>7844.000000</td>\n",
       "      <td>13575.0</td>\n",
       "      <td>13258.000000</td>\n",
       "      <td>13575.0</td>\n",
       "      <td>13575.000000</td>\n",
       "      <td>13575.000000</td>\n",
       "      <td>13575.000000</td>\n",
       "      <td>13575.000000</td>\n",
       "      <td>13575.000000</td>\n",
       "      <td>13575.000000</td>\n",
       "      <td>1.357500e+04</td>\n",
       "      <td>1.357500e+04</td>\n",
       "      <td>13575</td>\n",
       "      <td>1.357500e+04</td>\n",
       "      <td>0.0</td>\n",
       "      <td>1.357500e+04</td>\n",
       "    </tr>\n",
       "    <tr>\n",
       "      <th>mean</th>\n",
       "      <td>5054.461878</td>\n",
       "      <td>1.129371e+05</td>\n",
       "      <td>714.306177</td>\n",
       "      <td>4.0</td>\n",
       "      <td>82.431588</td>\n",
       "      <td>48.0</td>\n",
       "      <td>0.000295</td>\n",
       "      <td>2.925599</td>\n",
       "      <td>2.940184</td>\n",
       "      <td>39.801644</td>\n",
       "      <td>42.466582</td>\n",
       "      <td>40.945053</td>\n",
       "      <td>5.258418e+07</td>\n",
       "      <td>1.340933e+05</td>\n",
       "      <td>2023-04-21 18:07:45.826519040</td>\n",
       "      <td>5.258418e+07</td>\n",
       "      <td>NaN</td>\n",
       "      <td>1.682101e+09</td>\n",
       "    </tr>\n",
       "    <tr>\n",
       "      <th>min</th>\n",
       "      <td>4740.000000</td>\n",
       "      <td>-1.000000e+00</td>\n",
       "      <td>0.653004</td>\n",
       "      <td>4.0</td>\n",
       "      <td>33.000000</td>\n",
       "      <td>48.0</td>\n",
       "      <td>0.000000</td>\n",
       "      <td>0.000000</td>\n",
       "      <td>0.000000</td>\n",
       "      <td>-1.000000</td>\n",
       "      <td>-1.000000</td>\n",
       "      <td>-1.000000</td>\n",
       "      <td>5.094960e+07</td>\n",
       "      <td>3.700000e+01</td>\n",
       "      <td>2023-03-15 13:37:48</td>\n",
       "      <td>5.094960e+07</td>\n",
       "      <td>NaN</td>\n",
       "      <td>1.678887e+09</td>\n",
       "    </tr>\n",
       "    <tr>\n",
       "      <th>25%</th>\n",
       "      <td>5080.000000</td>\n",
       "      <td>1.500000e+01</td>\n",
       "      <td>19.641113</td>\n",
       "      <td>4.0</td>\n",
       "      <td>54.000000</td>\n",
       "      <td>48.0</td>\n",
       "      <td>0.000000</td>\n",
       "      <td>3.000000</td>\n",
       "      <td>3.000000</td>\n",
       "      <td>9.448666</td>\n",
       "      <td>10.064832</td>\n",
       "      <td>9.769561</td>\n",
       "      <td>5.137994e+07</td>\n",
       "      <td>1.487400e+04</td>\n",
       "      <td>2023-03-29 12:47:05</td>\n",
       "      <td>5.137994e+07</td>\n",
       "      <td>NaN</td>\n",
       "      <td>1.680094e+09</td>\n",
       "    </tr>\n",
       "    <tr>\n",
       "      <th>50%</th>\n",
       "      <td>5080.000000</td>\n",
       "      <td>3.400000e+01</td>\n",
       "      <td>37.904808</td>\n",
       "      <td>4.0</td>\n",
       "      <td>59.000000</td>\n",
       "      <td>48.0</td>\n",
       "      <td>0.000000</td>\n",
       "      <td>3.000000</td>\n",
       "      <td>3.000000</td>\n",
       "      <td>22.711767</td>\n",
       "      <td>23.967228</td>\n",
       "      <td>23.274960</td>\n",
       "      <td>5.246635e+07</td>\n",
       "      <td>2.758800e+04</td>\n",
       "      <td>2023-04-19 20:54:38</td>\n",
       "      <td>5.246635e+07</td>\n",
       "      <td>NaN</td>\n",
       "      <td>1.681938e+09</td>\n",
       "    </tr>\n",
       "    <tr>\n",
       "      <th>75%</th>\n",
       "      <td>5080.000000</td>\n",
       "      <td>6.900000e+01</td>\n",
       "      <td>67.781700</td>\n",
       "      <td>4.0</td>\n",
       "      <td>117.000000</td>\n",
       "      <td>48.0</td>\n",
       "      <td>0.000000</td>\n",
       "      <td>3.000000</td>\n",
       "      <td>3.000000</td>\n",
       "      <td>41.770405</td>\n",
       "      <td>44.314313</td>\n",
       "      <td>42.888202</td>\n",
       "      <td>5.375972e+07</td>\n",
       "      <td>5.185000e+04</td>\n",
       "      <td>2023-05-15 18:49:24</td>\n",
       "      <td>5.375972e+07</td>\n",
       "      <td>NaN</td>\n",
       "      <td>1.684177e+09</td>\n",
       "    </tr>\n",
       "    <tr>\n",
       "      <th>max</th>\n",
       "      <td>5080.000000</td>\n",
       "      <td>7.932454e+07</td>\n",
       "      <td>15124.210405</td>\n",
       "      <td>4.0</td>\n",
       "      <td>253.000000</td>\n",
       "      <td>48.0</td>\n",
       "      <td>2.000000</td>\n",
       "      <td>3.000000</td>\n",
       "      <td>3.000000</td>\n",
       "      <td>2881.238795</td>\n",
       "      <td>2881.238795</td>\n",
       "      <td>2881.238795</td>\n",
       "      <td>5.375973e+07</td>\n",
       "      <td>1.005745e+06</td>\n",
       "      <td>2023-05-15 18:50:50</td>\n",
       "      <td>5.375973e+07</td>\n",
       "      <td>NaN</td>\n",
       "      <td>1.684177e+09</td>\n",
       "    </tr>\n",
       "    <tr>\n",
       "      <th>std</th>\n",
       "      <td>78.237569</td>\n",
       "      <td>2.094447e+06</td>\n",
       "      <td>2473.831032</td>\n",
       "      <td>0.0</td>\n",
       "      <td>35.572375</td>\n",
       "      <td>0.0</td>\n",
       "      <td>0.021022</td>\n",
       "      <td>0.457961</td>\n",
       "      <td>0.413546</td>\n",
       "      <td>60.516059</td>\n",
       "      <td>65.208428</td>\n",
       "      <td>61.985299</td>\n",
       "      <td>1.025001e+06</td>\n",
       "      <td>3.050492e+05</td>\n",
       "      <td>NaN</td>\n",
       "      <td>1.025001e+06</td>\n",
       "      <td>NaN</td>\n",
       "      <td>1.853784e+06</td>\n",
       "    </tr>\n",
       "  </tbody>\n",
       "</table>\n",
       "</div>"
      ],
      "text/plain": [
       "                 fw           lts           ttr       af           ttl   \n",
       "count  13575.000000  1.357500e+04   7844.000000  13575.0  13258.000000  \\\n",
       "mean    5054.461878  1.129371e+05    714.306177      4.0     82.431588   \n",
       "min     4740.000000 -1.000000e+00      0.653004      4.0     33.000000   \n",
       "25%     5080.000000  1.500000e+01     19.641113      4.0     54.000000   \n",
       "50%     5080.000000  3.400000e+01     37.904808      4.0     59.000000   \n",
       "75%     5080.000000  6.900000e+01     67.781700      4.0    117.000000   \n",
       "max     5080.000000  7.932454e+07  15124.210405      4.0    253.000000   \n",
       "std       78.237569  2.094447e+06   2473.831032      0.0     35.572375   \n",
       "\n",
       "          size           dup          rcvd          sent           min   \n",
       "count  13575.0  13575.000000  13575.000000  13575.000000  13575.000000  \\\n",
       "mean      48.0      0.000295      2.925599      2.940184     39.801644   \n",
       "min       48.0      0.000000      0.000000      0.000000     -1.000000   \n",
       "25%       48.0      0.000000      3.000000      3.000000      9.448666   \n",
       "50%       48.0      0.000000      3.000000      3.000000     22.711767   \n",
       "75%       48.0      0.000000      3.000000      3.000000     41.770405   \n",
       "max       48.0      2.000000      3.000000      3.000000   2881.238795   \n",
       "std        0.0      0.021022      0.457961      0.413546     60.516059   \n",
       "\n",
       "                max           avg        msm_id        prb_id   \n",
       "count  13575.000000  13575.000000  1.357500e+04  1.357500e+04  \\\n",
       "mean      42.466582     40.945053  5.258418e+07  1.340933e+05   \n",
       "min       -1.000000     -1.000000  5.094960e+07  3.700000e+01   \n",
       "25%       10.064832      9.769561  5.137994e+07  1.487400e+04   \n",
       "50%       23.967228     23.274960  5.246635e+07  2.758800e+04   \n",
       "75%       44.314313     42.888202  5.375972e+07  5.185000e+04   \n",
       "max     2881.238795   2881.238795  5.375973e+07  1.005745e+06   \n",
       "std       65.208428     61.985299  1.025001e+06  3.050492e+05   \n",
       "\n",
       "                           timestamp      group_id  step  stored_timestamp  \n",
       "count                          13575  1.357500e+04   0.0      1.357500e+04  \n",
       "mean   2023-04-21 18:07:45.826519040  5.258418e+07   NaN      1.682101e+09  \n",
       "min              2023-03-15 13:37:48  5.094960e+07   NaN      1.678887e+09  \n",
       "25%              2023-03-29 12:47:05  5.137994e+07   NaN      1.680094e+09  \n",
       "50%              2023-04-19 20:54:38  5.246635e+07   NaN      1.681938e+09  \n",
       "75%              2023-05-15 18:49:24  5.375972e+07   NaN      1.684177e+09  \n",
       "max              2023-05-15 18:50:50  5.375973e+07   NaN      1.684177e+09  \n",
       "std                              NaN  1.025001e+06   NaN      1.853784e+06  "
      ]
     },
     "execution_count": 8,
     "metadata": {},
     "output_type": "execute_result"
    }
   ],
   "source": [
    "df.describe()"
   ]
  },
  {
   "cell_type": "code",
   "execution_count": 9,
   "metadata": {},
   "outputs": [
    {
     "name": "stdout",
     "output_type": "stream",
     "text": [
      "<class 'pandas.core.frame.DataFrame'>\n",
      "Index: 13575 entries, 0 to 895\n",
      "Data columns (total 27 columns):\n",
      " #   Column            Non-Null Count  Dtype         \n",
      "---  ------            --------------  -----         \n",
      " 0   fw                13575 non-null  int64         \n",
      " 1   mver              12514 non-null  object        \n",
      " 2   lts               13575 non-null  int64         \n",
      " 3   dst_name          13575 non-null  object        \n",
      " 4   ttr               7844 non-null   float64       \n",
      " 5   af                13575 non-null  int64         \n",
      " 6   dst_addr          13316 non-null  object        \n",
      " 7   src_addr          13316 non-null  object        \n",
      " 8   proto             13575 non-null  object        \n",
      " 9   ttl               13258 non-null  float64       \n",
      " 10  size              13575 non-null  int64         \n",
      " 11  result            13575 non-null  object        \n",
      " 12  dup               13575 non-null  int64         \n",
      " 13  rcvd              13575 non-null  int64         \n",
      " 14  sent              13575 non-null  int64         \n",
      " 15  min               13575 non-null  float64       \n",
      " 16  max               13575 non-null  float64       \n",
      " 17  avg               13575 non-null  float64       \n",
      " 18  msm_id            13575 non-null  int64         \n",
      " 19  prb_id            13575 non-null  int64         \n",
      " 20  timestamp         13575 non-null  datetime64[ns]\n",
      " 21  msm_name          13575 non-null  object        \n",
      " 22  from              13575 non-null  object        \n",
      " 23  type              13575 non-null  object        \n",
      " 24  group_id          13575 non-null  int64         \n",
      " 25  step              0 non-null      float64       \n",
      " 26  stored_timestamp  13575 non-null  int64         \n",
      "dtypes: datetime64[ns](1), float64(6), int64(11), object(9)\n",
      "memory usage: 2.9+ MB\n"
     ]
    }
   ],
   "source": [
    "df.info()"
   ]
  },
  {
   "cell_type": "code",
   "execution_count": 10,
   "metadata": {},
   "outputs": [
    {
     "data": {
      "text/plain": [
       "fw                      0\n",
       "mver                 1061\n",
       "lts                     0\n",
       "dst_name                0\n",
       "ttr                  5731\n",
       "af                      0\n",
       "dst_addr              259\n",
       "src_addr              259\n",
       "proto                   0\n",
       "ttl                   317\n",
       "size                    0\n",
       "result                  0\n",
       "dup                     0\n",
       "rcvd                    0\n",
       "sent                    0\n",
       "min                     0\n",
       "max                     0\n",
       "avg                     0\n",
       "msm_id                  0\n",
       "prb_id                  0\n",
       "timestamp               0\n",
       "msm_name                0\n",
       "from                    0\n",
       "type                    0\n",
       "group_id                0\n",
       "step                13575\n",
       "stored_timestamp        0\n",
       "dtype: int64"
      ]
     },
     "execution_count": 10,
     "metadata": {},
     "output_type": "execute_result"
    }
   ],
   "source": [
    "check_nan(df)"
   ]
  },
  {
   "attachments": {},
   "cell_type": "markdown",
   "metadata": {},
   "source": [
    "## Drop step column"
   ]
  },
  {
   "cell_type": "code",
   "execution_count": 11,
   "metadata": {},
   "outputs": [],
   "source": [
    "df.drop(['step'], axis=1, inplace=True)"
   ]
  },
  {
   "cell_type": "code",
   "execution_count": 12,
   "metadata": {},
   "outputs": [
    {
     "data": {
      "text/plain": [
       "fw                     0\n",
       "mver                1061\n",
       "lts                    0\n",
       "dst_name               0\n",
       "ttr                 5731\n",
       "af                     0\n",
       "dst_addr             259\n",
       "src_addr             259\n",
       "proto                  0\n",
       "ttl                  317\n",
       "size                   0\n",
       "result                 0\n",
       "dup                    0\n",
       "rcvd                   0\n",
       "sent                   0\n",
       "min                    0\n",
       "max                    0\n",
       "avg                    0\n",
       "msm_id                 0\n",
       "prb_id                 0\n",
       "timestamp              0\n",
       "msm_name               0\n",
       "from                   0\n",
       "type                   0\n",
       "group_id               0\n",
       "stored_timestamp       0\n",
       "dtype: int64"
      ]
     },
     "execution_count": 12,
     "metadata": {},
     "output_type": "execute_result"
    }
   ],
   "source": [
    "check_nan(df)"
   ]
  },
  {
   "cell_type": "code",
   "execution_count": 13,
   "metadata": {},
   "outputs": [
    {
     "name": "stdout",
     "output_type": "stream",
     "text": [
      "<class 'pandas.core.frame.DataFrame'>\n",
      "Index: 13575 entries, 0 to 895\n",
      "Data columns (total 2 columns):\n",
      " #   Column  Non-Null Count  Dtype  \n",
      "---  ------  --------------  -----  \n",
      " 0   mver    12514 non-null  object \n",
      " 1   ttl     13258 non-null  float64\n",
      "dtypes: float64(1), object(1)\n",
      "memory usage: 318.2+ KB\n"
     ]
    }
   ],
   "source": [
    "df[['mver', 'ttl']].info()"
   ]
  },
  {
   "attachments": {},
   "cell_type": "markdown",
   "metadata": {},
   "source": [
    "## Dealing with 'mver' column"
   ]
  },
  {
   "cell_type": "code",
   "execution_count": 14,
   "metadata": {},
   "outputs": [
    {
     "data": {
      "text/plain": [
       "array(['2.2.1', '2.6.2', '2.4.1', '2.6.3', '2.3.2', '2.5.1', '2.4.0', nan,\n",
       "       '2.6.1', '2.2.0', '2.4.2'], dtype=object)"
      ]
     },
     "execution_count": 14,
     "metadata": {},
     "output_type": "execute_result"
    }
   ],
   "source": [
    "df['mver'].unique()"
   ]
  },
  {
   "cell_type": "code",
   "execution_count": 15,
   "metadata": {},
   "outputs": [],
   "source": [
    "# mver specifies the version of measurement code\n",
    "df.drop(['mver'], axis=1, inplace=True)"
   ]
  },
  {
   "attachments": {},
   "cell_type": "markdown",
   "metadata": {},
   "source": [
    "## Dealing with 'ttl' column"
   ]
  },
  {
   "cell_type": "code",
   "execution_count": 16,
   "metadata": {},
   "outputs": [
    {
     "data": {
      "text/plain": [
       "array([117., 115., 119., 121., 110.,  57., 118.,  56., 114., 122., 116.,\n",
       "        58., 112., 120.,  60.,  59., 106.,  55., 113., 109., 107.,  52.,\n",
       "        61.,  nan, 103., 111.,  54.,  62., 108., 242.,  46.,  49.,  53.,\n",
       "        50.,  51.,  48.,  47.,  45., 251., 104., 105.,  99.,  96., 102.,\n",
       "       100.,  98.,  94., 101.,  95.,  93.,  44.,  35.,  42., 249., 241.,\n",
       "        63.,  36.,  40., 243., 235.,  43.,  33.,  34., 245., 248.,  41.,\n",
       "       247.,  37., 244.,  38., 246., 250., 253., 232., 239.,  39.,  66.,\n",
       "       236.])"
      ]
     },
     "execution_count": 16,
     "metadata": {},
     "output_type": "execute_result"
    }
   ],
   "source": [
    "df['ttl'].unique()"
   ]
  },
  {
   "cell_type": "code",
   "execution_count": 17,
   "metadata": {},
   "outputs": [
    {
     "data": {
      "text/plain": [
       "<Axes: >"
      ]
     },
     "execution_count": 17,
     "metadata": {},
     "output_type": "execute_result"
    },
    {
     "data": {
      "image/png": "[encoded data removed]",
      "text/plain": [
       "<Figure size 640x480 with 1 Axes>"
      ]
     },
     "metadata": {},
     "output_type": "display_data"
    }
   ],
   "source": [
    "df['ttl'].hist()"
   ]
  },
  {
   "cell_type": "code",
   "execution_count": 18,
   "metadata": {},
   "outputs": [],
   "source": [
    "# replace null in ttl column using median\n",
    "df.fillna(df['ttl'].median(), inplace=True)"
   ]
  },
  {
   "cell_type": "code",
   "execution_count": 19,
   "metadata": {},
   "outputs": [
    {
     "data": {
      "text/plain": [
       "fw                  0\n",
       "lts                 0\n",
       "dst_name            0\n",
       "ttr                 0\n",
       "af                  0\n",
       "dst_addr            0\n",
       "src_addr            0\n",
       "proto               0\n",
       "ttl                 0\n",
       "size                0\n",
       "result              0\n",
       "dup                 0\n",
       "rcvd                0\n",
       "sent                0\n",
       "min                 0\n",
       "max                 0\n",
       "avg                 0\n",
       "msm_id              0\n",
       "prb_id              0\n",
       "timestamp           0\n",
       "msm_name            0\n",
       "from                0\n",
       "type                0\n",
       "group_id            0\n",
       "stored_timestamp    0\n",
       "dtype: int64"
      ]
     },
     "execution_count": 19,
     "metadata": {},
     "output_type": "execute_result"
    }
   ],
   "source": [
    "check_nan(df)"
   ]
  },
  {
   "cell_type": "code",
   "execution_count": 20,
   "metadata": {},
   "outputs": [],
   "source": [
    "df.drop(['result'], axis=1, inplace=True)"
   ]
  },
  {
   "cell_type": "code",
   "execution_count": 21,
   "metadata": {},
   "outputs": [
    {
     "name": "stdout",
     "output_type": "stream",
     "text": [
      "<class 'pandas.core.frame.DataFrame'>\n",
      "Index: 13575 entries, 0 to 895\n",
      "Data columns (total 24 columns):\n",
      " #   Column            Non-Null Count  Dtype         \n",
      "---  ------            --------------  -----         \n",
      " 0   fw                13575 non-null  int64         \n",
      " 1   lts               13575 non-null  int64         \n",
      " 2   dst_name          13575 non-null  object        \n",
      " 3   ttr               13575 non-null  float64       \n",
      " 4   af                13575 non-null  int64         \n",
      " 5   dst_addr          13575 non-null  object        \n",
      " 6   src_addr          13575 non-null  object        \n",
      " 7   proto             13575 non-null  object        \n",
      " 8   ttl               13575 non-null  float64       \n",
      " 9   size              13575 non-null  int64         \n",
      " 10  dup               13575 non-null  int64         \n",
      " 11  rcvd              13575 non-null  int64         \n",
      " 12  sent              13575 non-null  int64         \n",
      " 13  min               13575 non-null  float64       \n",
      " 14  max               13575 non-null  float64       \n",
      " 15  avg               13575 non-null  float64       \n",
      " 16  msm_id            13575 non-null  int64         \n",
      " 17  prb_id            13575 non-null  int64         \n",
      " 18  timestamp         13575 non-null  datetime64[ns]\n",
      " 19  msm_name          13575 non-null  object        \n",
      " 20  from              13575 non-null  object        \n",
      " 21  type              13575 non-null  object        \n",
      " 22  group_id          13575 non-null  int64         \n",
      " 23  stored_timestamp  13575 non-null  int64         \n",
      "dtypes: datetime64[ns](1), float64(5), int64(11), object(7)\n",
      "memory usage: 2.6+ MB\n"
     ]
    }
   ],
   "source": [
    "df.info()"
   ]
  },
  {
   "cell_type": "code",
   "execution_count": 22,
   "metadata": {},
   "outputs": [],
   "source": [
    "df.drop(['dst_name', 'dst_addr', 'src_addr', 'proto'], axis=1, inplace=True)"
   ]
  },
  {
   "cell_type": "code",
   "execution_count": 23,
   "metadata": {},
   "outputs": [
    {
     "name": "stdout",
     "output_type": "stream",
     "text": [
      "<class 'pandas.core.frame.DataFrame'>\n",
      "Index: 13575 entries, 0 to 895\n",
      "Data columns (total 20 columns):\n",
      " #   Column            Non-Null Count  Dtype         \n",
      "---  ------            --------------  -----         \n",
      " 0   fw                13575 non-null  int64         \n",
      " 1   lts               13575 non-null  int64         \n",
      " 2   ttr               13575 non-null  float64       \n",
      " 3   af                13575 non-null  int64         \n",
      " 4   ttl               13575 non-null  float64       \n",
      " 5   size              13575 non-null  int64         \n",
      " 6   dup               13575 non-null  int64         \n",
      " 7   rcvd              13575 non-null  int64         \n",
      " 8   sent              13575 non-null  int64         \n",
      " 9   min               13575 non-null  float64       \n",
      " 10  max               13575 non-null  float64       \n",
      " 11  avg               13575 non-null  float64       \n",
      " 12  msm_id            13575 non-null  int64         \n",
      " 13  prb_id            13575 non-null  int64         \n",
      " 14  timestamp         13575 non-null  datetime64[ns]\n",
      " 15  msm_name          13575 non-null  object        \n",
      " 16  from              13575 non-null  object        \n",
      " 17  type              13575 non-null  object        \n",
      " 18  group_id          13575 non-null  int64         \n",
      " 19  stored_timestamp  13575 non-null  int64         \n",
      "dtypes: datetime64[ns](1), float64(5), int64(11), object(3)\n",
      "memory usage: 2.2+ MB\n"
     ]
    }
   ],
   "source": [
    "df.info()"
   ]
  },
  {
   "cell_type": "code",
   "execution_count": 24,
   "metadata": {},
   "outputs": [
    {
     "data": {
      "text/plain": [
       "array(['Ping'], dtype=object)"
      ]
     },
     "execution_count": 24,
     "metadata": {},
     "output_type": "execute_result"
    }
   ],
   "source": [
    "# only one value Ping\n",
    "df['msm_name'].unique()"
   ]
  },
  {
   "cell_type": "code",
   "execution_count": 25,
   "metadata": {},
   "outputs": [],
   "source": [
    "df.drop(['msm_name'], axis=1, inplace=True)"
   ]
  },
  {
   "cell_type": "code",
   "execution_count": 26,
   "metadata": {},
   "outputs": [
    {
     "data": {
      "text/plain": [
       "array(['176.57.191.107', '45.91.92.191', '45.128.160.112', ...,\n",
       "       '185.238.128.33', '145.238.186.110', '79.24.36.163'], dtype=object)"
      ]
     },
     "execution_count": 26,
     "metadata": {},
     "output_type": "execute_result"
    }
   ],
   "source": [
    "df['from'].unique()\n"
   ]
  },
  {
   "cell_type": "code",
   "execution_count": 27,
   "metadata": {},
   "outputs": [],
   "source": [
    "df.drop(['from'], axis=1, inplace=True)"
   ]
  },
  {
   "cell_type": "code",
   "execution_count": 28,
   "metadata": {},
   "outputs": [
    {
     "data": {
      "text/plain": [
       "array(['ping'], dtype=object)"
      ]
     },
     "execution_count": 28,
     "metadata": {},
     "output_type": "execute_result"
    }
   ],
   "source": [
    "# only one value Ping\n",
    "df['type'].unique()\n"
   ]
  },
  {
   "cell_type": "code",
   "execution_count": 29,
   "metadata": {},
   "outputs": [],
   "source": [
    "df.drop(['type'], axis=1, inplace=True)\n"
   ]
  },
  {
   "cell_type": "code",
   "execution_count": 30,
   "metadata": {},
   "outputs": [
    {
     "name": "stdout",
     "output_type": "stream",
     "text": [
      "<class 'pandas.core.frame.DataFrame'>\n",
      "Index: 13575 entries, 0 to 895\n",
      "Data columns (total 17 columns):\n",
      " #   Column            Non-Null Count  Dtype         \n",
      "---  ------            --------------  -----         \n",
      " 0   fw                13575 non-null  int64         \n",
      " 1   lts               13575 non-null  int64         \n",
      " 2   ttr               13575 non-null  float64       \n",
      " 3   af                13575 non-null  int64         \n",
      " 4   ttl               13575 non-null  float64       \n",
      " 5   size              13575 non-null  int64         \n",
      " 6   dup               13575 non-null  int64         \n",
      " 7   rcvd              13575 non-null  int64         \n",
      " 8   sent              13575 non-null  int64         \n",
      " 9   min               13575 non-null  float64       \n",
      " 10  max               13575 non-null  float64       \n",
      " 11  avg               13575 non-null  float64       \n",
      " 12  msm_id            13575 non-null  int64         \n",
      " 13  prb_id            13575 non-null  int64         \n",
      " 14  timestamp         13575 non-null  datetime64[ns]\n",
      " 15  group_id          13575 non-null  int64         \n",
      " 16  stored_timestamp  13575 non-null  int64         \n",
      "dtypes: datetime64[ns](1), float64(5), int64(11)\n",
      "memory usage: 1.9 MB\n"
     ]
    }
   ],
   "source": [
    "df.info()"
   ]
  },
  {
   "cell_type": "code",
   "execution_count": 31,
   "metadata": {},
   "outputs": [],
   "source": [
    "df['timestamp'] = pd.to_datetime(df['timestamp'],unit='s')"
   ]
  },
  {
   "cell_type": "code",
   "execution_count": 32,
   "metadata": {},
   "outputs": [
    {
     "name": "stdout",
     "output_type": "stream",
     "text": [
      "Index(['ttl', 'prb_id', 'rcvd', 'sent', 'fw', 'lts', 'ttr', 'dup', 'max',\n",
      "       'avg', 'min', 'stored_timestamp', 'msm_id', 'group_id', 'af', 'size'],\n",
      "      dtype='object')\n"
     ]
    },
    {
     "name": "stderr",
     "output_type": "stream",
     "text": [
      "d:\\Studia II\\Sem_II\\MaAoWbS\\mobile-and-analysis-of-web-based-systems\\.venv\\lib\\site-packages\\numpy\\lib\\function_base.py:2854: RuntimeWarning: invalid value encountered in divide\n",
      "  c /= stddev[:, None]\n",
      "d:\\Studia II\\Sem_II\\MaAoWbS\\mobile-and-analysis-of-web-based-systems\\.venv\\lib\\site-packages\\numpy\\lib\\function_base.py:2855: RuntimeWarning: invalid value encountered in divide\n",
      "  c /= stddev[None, :]\n"
     ]
    },
    {
     "data": {
      "image/png": "[encoded data removed]",
      "text/plain": [
       "<Figure size 1000x1000 with 2 Axes>"
      ]
     },
     "metadata": {},
     "output_type": "display_data"
    }
   ],
   "source": [
    "import seaborn as sns\n",
    "import numpy as np\n",
    "import matplotlib.pyplot as plt\n",
    "\n",
    "# Correlation matrix\n",
    "corrmat = df[[col for col in df.columns if col != 'timestamp']].corr()\n",
    "\n",
    "# Saleprice correlation matrix\n",
    "k = 20 # numbers of variables in heatmap\n",
    "cols = corrmat.nlargest(k, 'ttl')['ttl'].index\n",
    "print(cols)\n",
    "f, ax = plt.subplots(figsize=(10, 10))\n",
    "cm = np.corrcoef(df[cols].values.T)\n",
    "sns.set(font_scale=1.25)\n",
    "hm = sns.heatmap(cm, cbar=True, annot=True, square=True, fmt='.2f', annot_kws={'size': 10}, yticklabels=cols.values, xticklabels=cols.values)"
   ]
  },
  {
   "cell_type": "code",
   "execution_count": 33,
   "metadata": {},
   "outputs": [
    {
     "data": {
      "text/plain": [
       "Text(0, 0.5, 'frequency')"
      ]
     },
     "execution_count": 33,
     "metadata": {},
     "output_type": "execute_result"
    },
    {
     "data": {
      "image/png": "[encoded data removed]",
      "text/plain": [
       "<Figure size 640x480 with 1 Axes>"
      ]
     },
     "metadata": {},
     "output_type": "display_data"
    }
   ],
   "source": [
    "df['ttl'].hist()\n",
    "plt.title('ttl histogram')\n",
    "plt.xlabel('value')\n",
    "plt.ylabel('frequency')"
   ]
  },
  {
   "cell_type": "code",
   "execution_count": 34,
   "metadata": {},
   "outputs": [
    {
     "data": {
      "text/plain": [
       "<Axes: xlabel='timestamp', ylabel='ttl'>"
      ]
     },
     "execution_count": 34,
     "metadata": {},
     "output_type": "execute_result"
    },
    {
     "data": {
      "image/png": "[encoded data removed]",
      "text/plain": [
       "<Figure size 640x480 with 1 Axes>"
      ]
     },
     "metadata": {},
     "output_type": "display_data"
    }
   ],
   "source": [
    "df.plot.scatter(x='timestamp', y='ttl', rot=60)"
   ]
  },
  {
   "cell_type": "code",
   "execution_count": 35,
   "metadata": {},
   "outputs": [
    {
     "data": {
      "text/html": [
       "<div>\n",
       "<style scoped>\n",
       "    .dataframe tbody tr th:only-of-type {\n",
       "        vertical-align: middle;\n",
       "    }\n",
       "\n",
       "    .dataframe tbody tr th {\n",
       "        vertical-align: top;\n",
       "    }\n",
       "\n",
       "    .dataframe thead th {\n",
       "        text-align: right;\n",
       "    }\n",
       "</style>\n",
       "<table border=\"1\" class=\"dataframe\">\n",
       "  <thead>\n",
       "    <tr style=\"text-align: right;\">\n",
       "      <th></th>\n",
       "      <th>fw</th>\n",
       "      <th>lts</th>\n",
       "      <th>ttr</th>\n",
       "      <th>af</th>\n",
       "      <th>ttl</th>\n",
       "      <th>size</th>\n",
       "      <th>dup</th>\n",
       "      <th>rcvd</th>\n",
       "      <th>sent</th>\n",
       "      <th>min</th>\n",
       "      <th>max</th>\n",
       "      <th>avg</th>\n",
       "      <th>msm_id</th>\n",
       "      <th>prb_id</th>\n",
       "      <th>timestamp</th>\n",
       "      <th>group_id</th>\n",
       "      <th>stored_timestamp</th>\n",
       "    </tr>\n",
       "  </thead>\n",
       "  <tbody>\n",
       "    <tr>\n",
       "      <th>123</th>\n",
       "      <td>5080</td>\n",
       "      <td>23</td>\n",
       "      <td>57.265417</td>\n",
       "      <td>4</td>\n",
       "      <td>114.0</td>\n",
       "      <td>48</td>\n",
       "      <td>0</td>\n",
       "      <td>2</td>\n",
       "      <td>3</td>\n",
       "      <td>32.903083</td>\n",
       "      <td>33.000209</td>\n",
       "      <td>32.951646</td>\n",
       "      <td>50949595</td>\n",
       "      <td>53055</td>\n",
       "      <td>2023-03-15 13:37:51</td>\n",
       "      <td>50949595</td>\n",
       "      <td>1678887471</td>\n",
       "    </tr>\n",
       "    <tr>\n",
       "      <th>154</th>\n",
       "      <td>5080</td>\n",
       "      <td>53</td>\n",
       "      <td>873.500275</td>\n",
       "      <td>4</td>\n",
       "      <td>59.0</td>\n",
       "      <td>48</td>\n",
       "      <td>0</td>\n",
       "      <td>0</td>\n",
       "      <td>3</td>\n",
       "      <td>-1.000000</td>\n",
       "      <td>-1.000000</td>\n",
       "      <td>-1.000000</td>\n",
       "      <td>50949718</td>\n",
       "      <td>6275</td>\n",
       "      <td>2023-03-15 13:54:21</td>\n",
       "      <td>50949718</td>\n",
       "      <td>1678888462</td>\n",
       "    </tr>\n",
       "    <tr>\n",
       "      <th>40</th>\n",
       "      <td>5080</td>\n",
       "      <td>20</td>\n",
       "      <td>267.588651</td>\n",
       "      <td>4</td>\n",
       "      <td>59.0</td>\n",
       "      <td>48</td>\n",
       "      <td>0</td>\n",
       "      <td>0</td>\n",
       "      <td>3</td>\n",
       "      <td>-1.000000</td>\n",
       "      <td>-1.000000</td>\n",
       "      <td>-1.000000</td>\n",
       "      <td>51187029</td>\n",
       "      <td>12571</td>\n",
       "      <td>2023-03-22 13:51:49</td>\n",
       "      <td>51187029</td>\n",
       "      <td>1679493121</td>\n",
       "    </tr>\n",
       "    <tr>\n",
       "      <th>40</th>\n",
       "      <td>5080</td>\n",
       "      <td>27</td>\n",
       "      <td>271.104005</td>\n",
       "      <td>4</td>\n",
       "      <td>59.0</td>\n",
       "      <td>48</td>\n",
       "      <td>0</td>\n",
       "      <td>0</td>\n",
       "      <td>3</td>\n",
       "      <td>-1.000000</td>\n",
       "      <td>-1.000000</td>\n",
       "      <td>-1.000000</td>\n",
       "      <td>51187385</td>\n",
       "      <td>12571</td>\n",
       "      <td>2023-03-22 14:21:41</td>\n",
       "      <td>51187385</td>\n",
       "      <td>1679494906</td>\n",
       "    </tr>\n",
       "    <tr>\n",
       "      <th>44</th>\n",
       "      <td>5080</td>\n",
       "      <td>8</td>\n",
       "      <td>291.534597</td>\n",
       "      <td>4</td>\n",
       "      <td>59.0</td>\n",
       "      <td>48</td>\n",
       "      <td>0</td>\n",
       "      <td>0</td>\n",
       "      <td>3</td>\n",
       "      <td>-1.000000</td>\n",
       "      <td>-1.000000</td>\n",
       "      <td>-1.000000</td>\n",
       "      <td>51188629</td>\n",
       "      <td>12571</td>\n",
       "      <td>2023-03-22 15:31:01</td>\n",
       "      <td>51188629</td>\n",
       "      <td>1679499061</td>\n",
       "    </tr>\n",
       "    <tr>\n",
       "      <th>...</th>\n",
       "      <td>...</td>\n",
       "      <td>...</td>\n",
       "      <td>...</td>\n",
       "      <td>...</td>\n",
       "      <td>...</td>\n",
       "      <td>...</td>\n",
       "      <td>...</td>\n",
       "      <td>...</td>\n",
       "      <td>...</td>\n",
       "      <td>...</td>\n",
       "      <td>...</td>\n",
       "      <td>...</td>\n",
       "      <td>...</td>\n",
       "      <td>...</td>\n",
       "      <td>...</td>\n",
       "      <td>...</td>\n",
       "      <td>...</td>\n",
       "    </tr>\n",
       "    <tr>\n",
       "      <th>239</th>\n",
       "      <td>5080</td>\n",
       "      <td>27</td>\n",
       "      <td>59.000000</td>\n",
       "      <td>4</td>\n",
       "      <td>59.0</td>\n",
       "      <td>48</td>\n",
       "      <td>0</td>\n",
       "      <td>0</td>\n",
       "      <td>3</td>\n",
       "      <td>-1.000000</td>\n",
       "      <td>-1.000000</td>\n",
       "      <td>-1.000000</td>\n",
       "      <td>53759726</td>\n",
       "      <td>51101</td>\n",
       "      <td>2023-05-15 18:49:44</td>\n",
       "      <td>53759726</td>\n",
       "      <td>1684176585</td>\n",
       "    </tr>\n",
       "    <tr>\n",
       "      <th>338</th>\n",
       "      <td>5070</td>\n",
       "      <td>193</td>\n",
       "      <td>59.000000</td>\n",
       "      <td>4</td>\n",
       "      <td>47.0</td>\n",
       "      <td>48</td>\n",
       "      <td>0</td>\n",
       "      <td>2</td>\n",
       "      <td>3</td>\n",
       "      <td>112.388167</td>\n",
       "      <td>112.685416</td>\n",
       "      <td>112.536792</td>\n",
       "      <td>53759726</td>\n",
       "      <td>51482</td>\n",
       "      <td>2023-05-15 18:49:44</td>\n",
       "      <td>53759726</td>\n",
       "      <td>1684176584</td>\n",
       "    </tr>\n",
       "    <tr>\n",
       "      <th>848</th>\n",
       "      <td>5080</td>\n",
       "      <td>26</td>\n",
       "      <td>59.000000</td>\n",
       "      <td>4</td>\n",
       "      <td>50.0</td>\n",
       "      <td>48</td>\n",
       "      <td>0</td>\n",
       "      <td>1</td>\n",
       "      <td>2</td>\n",
       "      <td>190.164334</td>\n",
       "      <td>190.164334</td>\n",
       "      <td>190.164334</td>\n",
       "      <td>53759726</td>\n",
       "      <td>53601</td>\n",
       "      <td>2023-05-15 18:49:46</td>\n",
       "      <td>53759726</td>\n",
       "      <td>1684176585</td>\n",
       "    </tr>\n",
       "    <tr>\n",
       "      <th>853</th>\n",
       "      <td>5080</td>\n",
       "      <td>29</td>\n",
       "      <td>59.000000</td>\n",
       "      <td>4</td>\n",
       "      <td>59.0</td>\n",
       "      <td>48</td>\n",
       "      <td>0</td>\n",
       "      <td>0</td>\n",
       "      <td>3</td>\n",
       "      <td>-1.000000</td>\n",
       "      <td>-1.000000</td>\n",
       "      <td>-1.000000</td>\n",
       "      <td>53759726</td>\n",
       "      <td>53620</td>\n",
       "      <td>2023-05-15 18:49:46</td>\n",
       "      <td>53759726</td>\n",
       "      <td>1684176585</td>\n",
       "    </tr>\n",
       "    <tr>\n",
       "      <th>868</th>\n",
       "      <td>5080</td>\n",
       "      <td>16</td>\n",
       "      <td>59.000000</td>\n",
       "      <td>4</td>\n",
       "      <td>59.0</td>\n",
       "      <td>48</td>\n",
       "      <td>0</td>\n",
       "      <td>0</td>\n",
       "      <td>3</td>\n",
       "      <td>-1.000000</td>\n",
       "      <td>-1.000000</td>\n",
       "      <td>-1.000000</td>\n",
       "      <td>53759726</td>\n",
       "      <td>53688</td>\n",
       "      <td>2023-05-15 18:49:45</td>\n",
       "      <td>53759726</td>\n",
       "      <td>1684176584</td>\n",
       "    </tr>\n",
       "  </tbody>\n",
       "</table>\n",
       "<p>80 rows × 17 columns</p>\n",
       "</div>"
      ],
      "text/plain": [
       "       fw  lts         ttr  af    ttl  size  dup  rcvd  sent         min   \n",
       "123  5080   23   57.265417   4  114.0    48    0     2     3   32.903083  \\\n",
       "154  5080   53  873.500275   4   59.0    48    0     0     3   -1.000000   \n",
       "40   5080   20  267.588651   4   59.0    48    0     0     3   -1.000000   \n",
       "40   5080   27  271.104005   4   59.0    48    0     0     3   -1.000000   \n",
       "44   5080    8  291.534597   4   59.0    48    0     0     3   -1.000000   \n",
       "..    ...  ...         ...  ..    ...   ...  ...   ...   ...         ...   \n",
       "239  5080   27   59.000000   4   59.0    48    0     0     3   -1.000000   \n",
       "338  5070  193   59.000000   4   47.0    48    0     2     3  112.388167   \n",
       "848  5080   26   59.000000   4   50.0    48    0     1     2  190.164334   \n",
       "853  5080   29   59.000000   4   59.0    48    0     0     3   -1.000000   \n",
       "868  5080   16   59.000000   4   59.0    48    0     0     3   -1.000000   \n",
       "\n",
       "            max         avg    msm_id  prb_id           timestamp  group_id   \n",
       "123   33.000209   32.951646  50949595   53055 2023-03-15 13:37:51  50949595  \\\n",
       "154   -1.000000   -1.000000  50949718    6275 2023-03-15 13:54:21  50949718   \n",
       "40    -1.000000   -1.000000  51187029   12571 2023-03-22 13:51:49  51187029   \n",
       "40    -1.000000   -1.000000  51187385   12571 2023-03-22 14:21:41  51187385   \n",
       "44    -1.000000   -1.000000  51188629   12571 2023-03-22 15:31:01  51188629   \n",
       "..          ...         ...       ...     ...                 ...       ...   \n",
       "239   -1.000000   -1.000000  53759726   51101 2023-05-15 18:49:44  53759726   \n",
       "338  112.685416  112.536792  53759726   51482 2023-05-15 18:49:44  53759726   \n",
       "848  190.164334  190.164334  53759726   53601 2023-05-15 18:49:46  53759726   \n",
       "853   -1.000000   -1.000000  53759726   53620 2023-05-15 18:49:46  53759726   \n",
       "868   -1.000000   -1.000000  53759726   53688 2023-05-15 18:49:45  53759726   \n",
       "\n",
       "     stored_timestamp  \n",
       "123        1678887471  \n",
       "154        1678888462  \n",
       "40         1679493121  \n",
       "40         1679494906  \n",
       "44         1679499061  \n",
       "..                ...  \n",
       "239        1684176585  \n",
       "338        1684176584  \n",
       "848        1684176585  \n",
       "853        1684176585  \n",
       "868        1684176584  \n",
       "\n",
       "[80 rows x 17 columns]"
      ]
     },
     "execution_count": 35,
     "metadata": {},
     "output_type": "execute_result"
    }
   ],
   "source": [
    "# Delete those rows?\n",
    "df[df['sent'] != df['rcvd']]"
   ]
  },
  {
   "cell_type": "code",
   "execution_count": 36,
   "metadata": {},
   "outputs": [],
   "source": [
    "df.to_csv(os.path.join('data', 'processed.csv'), index=False)"
   ]
  },
  {
   "cell_type": "code",
   "execution_count": 37,
   "metadata": {},
   "outputs": [
    {
     "data": {
      "text/html": [
       "<div>\n",
       "<style scoped>\n",
       "    .dataframe tbody tr th:only-of-type {\n",
       "        vertical-align: middle;\n",
       "    }\n",
       "\n",
       "    .dataframe tbody tr th {\n",
       "        vertical-align: top;\n",
       "    }\n",
       "\n",
       "    .dataframe thead th {\n",
       "        text-align: right;\n",
       "    }\n",
       "</style>\n",
       "<table border=\"1\" class=\"dataframe\">\n",
       "  <thead>\n",
       "    <tr style=\"text-align: right;\">\n",
       "      <th></th>\n",
       "      <th>fw</th>\n",
       "      <th>lts</th>\n",
       "      <th>ttr</th>\n",
       "      <th>af</th>\n",
       "      <th>ttl</th>\n",
       "      <th>size</th>\n",
       "      <th>dup</th>\n",
       "      <th>rcvd</th>\n",
       "      <th>sent</th>\n",
       "      <th>min</th>\n",
       "      <th>max</th>\n",
       "      <th>avg</th>\n",
       "      <th>msm_id</th>\n",
       "      <th>prb_id</th>\n",
       "      <th>timestamp</th>\n",
       "      <th>group_id</th>\n",
       "      <th>stored_timestamp</th>\n",
       "    </tr>\n",
       "  </thead>\n",
       "  <tbody>\n",
       "    <tr>\n",
       "      <th>0</th>\n",
       "      <td>5020</td>\n",
       "      <td>27</td>\n",
       "      <td>13.350783</td>\n",
       "      <td>4</td>\n",
       "      <td>117.0</td>\n",
       "      <td>48</td>\n",
       "      <td>0</td>\n",
       "      <td>3</td>\n",
       "      <td>3</td>\n",
       "      <td>0.836993</td>\n",
       "      <td>0.881792</td>\n",
       "      <td>0.854291</td>\n",
       "      <td>50949595</td>\n",
       "      <td>1000518</td>\n",
       "      <td>2023-03-15 13:37:51</td>\n",
       "      <td>50949595</td>\n",
       "      <td>1678887471</td>\n",
       "    </tr>\n",
       "    <tr>\n",
       "      <th>1</th>\n",
       "      <td>5080</td>\n",
       "      <td>12</td>\n",
       "      <td>22.449198</td>\n",
       "      <td>4</td>\n",
       "      <td>115.0</td>\n",
       "      <td>48</td>\n",
       "      <td>0</td>\n",
       "      <td>3</td>\n",
       "      <td>3</td>\n",
       "      <td>7.937588</td>\n",
       "      <td>8.037138</td>\n",
       "      <td>7.990553</td>\n",
       "      <td>50949595</td>\n",
       "      <td>1001200</td>\n",
       "      <td>2023-03-15 13:37:50</td>\n",
       "      <td>50949595</td>\n",
       "      <td>1678887470</td>\n",
       "    </tr>\n",
       "    <tr>\n",
       "      <th>2</th>\n",
       "      <td>5020</td>\n",
       "      <td>4</td>\n",
       "      <td>65.007328</td>\n",
       "      <td>4</td>\n",
       "      <td>115.0</td>\n",
       "      <td>48</td>\n",
       "      <td>0</td>\n",
       "      <td>3</td>\n",
       "      <td>3</td>\n",
       "      <td>34.585689</td>\n",
       "      <td>34.671303</td>\n",
       "      <td>34.641703</td>\n",
       "      <td>50949595</td>\n",
       "      <td>1002099</td>\n",
       "      <td>2023-03-15 13:37:50</td>\n",
       "      <td>50949595</td>\n",
       "      <td>1678887471</td>\n",
       "    </tr>\n",
       "    <tr>\n",
       "      <th>3</th>\n",
       "      <td>5080</td>\n",
       "      <td>22</td>\n",
       "      <td>43.548034</td>\n",
       "      <td>4</td>\n",
       "      <td>119.0</td>\n",
       "      <td>48</td>\n",
       "      <td>0</td>\n",
       "      <td>3</td>\n",
       "      <td>3</td>\n",
       "      <td>24.816249</td>\n",
       "      <td>24.930937</td>\n",
       "      <td>24.891368</td>\n",
       "      <td>50949595</td>\n",
       "      <td>1002205</td>\n",
       "      <td>2023-03-15 13:37:50</td>\n",
       "      <td>50949595</td>\n",
       "      <td>1678887470</td>\n",
       "    </tr>\n",
       "    <tr>\n",
       "      <th>4</th>\n",
       "      <td>5080</td>\n",
       "      <td>12</td>\n",
       "      <td>13.308441</td>\n",
       "      <td>4</td>\n",
       "      <td>121.0</td>\n",
       "      <td>48</td>\n",
       "      <td>0</td>\n",
       "      <td>3</td>\n",
       "      <td>3</td>\n",
       "      <td>3.355540</td>\n",
       "      <td>3.451388</td>\n",
       "      <td>3.415008</td>\n",
       "      <td>50949595</td>\n",
       "      <td>1002210</td>\n",
       "      <td>2023-03-15 13:37:49</td>\n",
       "      <td>50949595</td>\n",
       "      <td>1678887470</td>\n",
       "    </tr>\n",
       "    <tr>\n",
       "      <th>...</th>\n",
       "      <td>...</td>\n",
       "      <td>...</td>\n",
       "      <td>...</td>\n",
       "      <td>...</td>\n",
       "      <td>...</td>\n",
       "      <td>...</td>\n",
       "      <td>...</td>\n",
       "      <td>...</td>\n",
       "      <td>...</td>\n",
       "      <td>...</td>\n",
       "      <td>...</td>\n",
       "      <td>...</td>\n",
       "      <td>...</td>\n",
       "      <td>...</td>\n",
       "      <td>...</td>\n",
       "      <td>...</td>\n",
       "      <td>...</td>\n",
       "    </tr>\n",
       "    <tr>\n",
       "      <th>891</th>\n",
       "      <td>5080</td>\n",
       "      <td>96</td>\n",
       "      <td>59.000000</td>\n",
       "      <td>4</td>\n",
       "      <td>52.0</td>\n",
       "      <td>48</td>\n",
       "      <td>0</td>\n",
       "      <td>3</td>\n",
       "      <td>3</td>\n",
       "      <td>25.680500</td>\n",
       "      <td>26.924708</td>\n",
       "      <td>26.233055</td>\n",
       "      <td>53759726</td>\n",
       "      <td>53749</td>\n",
       "      <td>2023-05-15 18:49:45</td>\n",
       "      <td>53759726</td>\n",
       "      <td>1684176584</td>\n",
       "    </tr>\n",
       "    <tr>\n",
       "      <th>892</th>\n",
       "      <td>5080</td>\n",
       "      <td>21</td>\n",
       "      <td>59.000000</td>\n",
       "      <td>4</td>\n",
       "      <td>53.0</td>\n",
       "      <td>48</td>\n",
       "      <td>0</td>\n",
       "      <td>3</td>\n",
       "      <td>3</td>\n",
       "      <td>8.495208</td>\n",
       "      <td>8.800000</td>\n",
       "      <td>8.620847</td>\n",
       "      <td>53759726</td>\n",
       "      <td>53754</td>\n",
       "      <td>2023-05-15 18:49:44</td>\n",
       "      <td>53759726</td>\n",
       "      <td>1684176585</td>\n",
       "    </tr>\n",
       "    <tr>\n",
       "      <th>893</th>\n",
       "      <td>5080</td>\n",
       "      <td>27</td>\n",
       "      <td>59.000000</td>\n",
       "      <td>4</td>\n",
       "      <td>45.0</td>\n",
       "      <td>48</td>\n",
       "      <td>0</td>\n",
       "      <td>3</td>\n",
       "      <td>3</td>\n",
       "      <td>50.635125</td>\n",
       "      <td>51.349750</td>\n",
       "      <td>50.914861</td>\n",
       "      <td>53759726</td>\n",
       "      <td>53962</td>\n",
       "      <td>2023-05-15 18:49:44</td>\n",
       "      <td>53759726</td>\n",
       "      <td>1684176584</td>\n",
       "    </tr>\n",
       "    <tr>\n",
       "      <th>894</th>\n",
       "      <td>5080</td>\n",
       "      <td>43</td>\n",
       "      <td>59.000000</td>\n",
       "      <td>4</td>\n",
       "      <td>52.0</td>\n",
       "      <td>48</td>\n",
       "      <td>0</td>\n",
       "      <td>3</td>\n",
       "      <td>3</td>\n",
       "      <td>114.468918</td>\n",
       "      <td>118.128364</td>\n",
       "      <td>115.746388</td>\n",
       "      <td>53759726</td>\n",
       "      <td>1000879</td>\n",
       "      <td>2023-05-15 18:50:07</td>\n",
       "      <td>53759726</td>\n",
       "      <td>1684176608</td>\n",
       "    </tr>\n",
       "    <tr>\n",
       "      <th>895</th>\n",
       "      <td>5080</td>\n",
       "      <td>316</td>\n",
       "      <td>59.000000</td>\n",
       "      <td>4</td>\n",
       "      <td>51.0</td>\n",
       "      <td>48</td>\n",
       "      <td>0</td>\n",
       "      <td>1</td>\n",
       "      <td>1</td>\n",
       "      <td>35.939792</td>\n",
       "      <td>35.939792</td>\n",
       "      <td>35.939792</td>\n",
       "      <td>53759726</td>\n",
       "      <td>51295</td>\n",
       "      <td>2023-05-15 18:50:21</td>\n",
       "      <td>53759726</td>\n",
       "      <td>1684176625</td>\n",
       "    </tr>\n",
       "  </tbody>\n",
       "</table>\n",
       "<p>13575 rows × 17 columns</p>\n",
       "</div>"
      ],
      "text/plain": [
       "       fw  lts        ttr  af    ttl  size  dup  rcvd  sent         min   \n",
       "0    5020   27  13.350783   4  117.0    48    0     3     3    0.836993  \\\n",
       "1    5080   12  22.449198   4  115.0    48    0     3     3    7.937588   \n",
       "2    5020    4  65.007328   4  115.0    48    0     3     3   34.585689   \n",
       "3    5080   22  43.548034   4  119.0    48    0     3     3   24.816249   \n",
       "4    5080   12  13.308441   4  121.0    48    0     3     3    3.355540   \n",
       "..    ...  ...        ...  ..    ...   ...  ...   ...   ...         ...   \n",
       "891  5080   96  59.000000   4   52.0    48    0     3     3   25.680500   \n",
       "892  5080   21  59.000000   4   53.0    48    0     3     3    8.495208   \n",
       "893  5080   27  59.000000   4   45.0    48    0     3     3   50.635125   \n",
       "894  5080   43  59.000000   4   52.0    48    0     3     3  114.468918   \n",
       "895  5080  316  59.000000   4   51.0    48    0     1     1   35.939792   \n",
       "\n",
       "            max         avg    msm_id   prb_id           timestamp  group_id   \n",
       "0      0.881792    0.854291  50949595  1000518 2023-03-15 13:37:51  50949595  \\\n",
       "1      8.037138    7.990553  50949595  1001200 2023-03-15 13:37:50  50949595   \n",
       "2     34.671303   34.641703  50949595  1002099 2023-03-15 13:37:50  50949595   \n",
       "3     24.930937   24.891368  50949595  1002205 2023-03-15 13:37:50  50949595   \n",
       "4      3.451388    3.415008  50949595  1002210 2023-03-15 13:37:49  50949595   \n",
       "..          ...         ...       ...      ...                 ...       ...   \n",
       "891   26.924708   26.233055  53759726    53749 2023-05-15 18:49:45  53759726   \n",
       "892    8.800000    8.620847  53759726    53754 2023-05-15 18:49:44  53759726   \n",
       "893   51.349750   50.914861  53759726    53962 2023-05-15 18:49:44  53759726   \n",
       "894  118.128364  115.746388  53759726  1000879 2023-05-15 18:50:07  53759726   \n",
       "895   35.939792   35.939792  53759726    51295 2023-05-15 18:50:21  53759726   \n",
       "\n",
       "     stored_timestamp  \n",
       "0          1678887471  \n",
       "1          1678887470  \n",
       "2          1678887471  \n",
       "3          1678887470  \n",
       "4          1678887470  \n",
       "..                ...  \n",
       "891        1684176584  \n",
       "892        1684176585  \n",
       "893        1684176584  \n",
       "894        1684176608  \n",
       "895        1684176625  \n",
       "\n",
       "[13575 rows x 17 columns]"
      ]
     },
     "execution_count": 37,
     "metadata": {},
     "output_type": "execute_result"
    }
   ],
   "source": [
    "df"
   ]
  }
 ],
 "metadata": {
  "kernelspec": {
   "display_name": ".venv",
   "language": "python",
   "name": "python3"
  },
  "language_info": {
   "codemirror_mode": {
    "name": "ipython",
    "version": 3
   },
   "file_extension": ".py",
   "mimetype": "text/x-python",
   "name": "python",
   "nbconvert_exporter": "python",
   "pygments_lexer": "ipython3",
   "version": "3.10.9"
  },
  "orig_nbformat": 4
 },
 "nbformat": 4,
 "nbformat_minor": 2
}
