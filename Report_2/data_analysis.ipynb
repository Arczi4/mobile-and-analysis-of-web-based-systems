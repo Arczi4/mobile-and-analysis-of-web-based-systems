{
 "cells": [
  {
   "cell_type": "code",
   "execution_count": 4,
   "metadata": {},
   "outputs": [],
   "source": [
    "import pandas as pd\n",
    "import numpy as np\n",
    "import matplotlib.pyplot as plt\n",
    "import os"
   ]
  },
  {
   "cell_type": "code",
   "execution_count": 5,
   "metadata": {},
   "outputs": [],
   "source": [
    "df_path = os.path.join('data', 'merged.csv')\n",
    "df = pd.read_csv(df_path)"
   ]
  },
  {
   "cell_type": "code",
   "execution_count": 7,
   "metadata": {},
   "outputs": [
    {
     "name": "stdout",
     "output_type": "stream",
     "text": [
      "<class 'pandas.core.frame.DataFrame'>\n",
      "RangeIndex: 4725 entries, 0 to 4724\n",
      "Data columns (total 26 columns):\n",
      " #   Column            Non-Null Count  Dtype  \n",
      "---  ------            --------------  -----  \n",
      " 0   fw                4725 non-null   int64  \n",
      " 1   mver              4670 non-null   object \n",
      " 2   lts               4725 non-null   int64  \n",
      " 3   dst_name          4725 non-null   object \n",
      " 4   af                4725 non-null   int64  \n",
      " 5   dst_addr          4725 non-null   object \n",
      " 6   src_addr          4725 non-null   object \n",
      " 7   proto             4725 non-null   object \n",
      " 8   ttl               4702 non-null   float64\n",
      " 9   size              4725 non-null   int64  \n",
      " 10  result            4725 non-null   object \n",
      " 11  dup               4725 non-null   int64  \n",
      " 12  rcvd              4725 non-null   int64  \n",
      " 13  sent              4725 non-null   int64  \n",
      " 14  min               4725 non-null   float64\n",
      " 15  max               4725 non-null   float64\n",
      " 16  avg               4725 non-null   float64\n",
      " 17  msm_id            4725 non-null   int64  \n",
      " 18  prb_id            4725 non-null   int64  \n",
      " 19  timestamp         4725 non-null   object \n",
      " 20  msm_name          4725 non-null   object \n",
      " 21  from              4725 non-null   object \n",
      " 22  type              4725 non-null   object \n",
      " 23  group_id          4725 non-null   int64  \n",
      " 24  step              0 non-null      float64\n",
      " 25  stored_timestamp  4725 non-null   int64  \n",
      "dtypes: float64(5), int64(11), object(10)\n",
      "memory usage: 959.9+ KB\n"
     ]
    }
   ],
   "source": [
    "df.info()"
   ]
  },
  {
   "cell_type": "code",
   "execution_count": 19,
   "metadata": {},
   "outputs": [
    {
     "data": {
      "text/plain": [
       "0       52.0\n",
       "1       55.0\n",
       "2       49.0\n",
       "3       56.0\n",
       "4       52.0\n",
       "        ... \n",
       "4720    52.0\n",
       "4721    53.0\n",
       "4722    45.0\n",
       "4723    52.0\n",
       "4724    51.0\n",
       "Name: ttl, Length: 4725, dtype: float64"
      ]
     },
     "execution_count": 19,
     "metadata": {},
     "output_type": "execute_result"
    }
   ],
   "source": [
    "df['ttl']"
   ]
  }
 ],
 "metadata": {
  "kernelspec": {
   "display_name": ".venv",
   "language": "python",
   "name": "python3"
  },
  "language_info": {
   "codemirror_mode": {
    "name": "ipython",
    "version": 3
   },
   "file_extension": ".py",
   "mimetype": "text/x-python",
   "name": "python",
   "nbconvert_exporter": "python",
   "pygments_lexer": "ipython3",
   "version": "3.10.9"
  },
  "orig_nbformat": 4
 },
 "nbformat": 4,
 "nbformat_minor": 2
}
