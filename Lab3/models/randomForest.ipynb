{
 "cells": [
  {
   "cell_type": "code",
   "execution_count": 5,
   "metadata": {},
   "outputs": [],
   "source": [
    "import pandas as pd\n",
    "from sklearn.ensemble import RandomForestRegressor\n",
    "from sklearn.metrics import mean_absolute_error, mean_squared_error, r2_score"
   ]
  },
  {
   "cell_type": "code",
   "execution_count": 6,
   "metadata": {},
   "outputs": [],
   "source": [
    "X_train_small = pd.read_csv('../split_data/X_train_small.csv')\n",
    "X_test_small = pd.read_csv('../split_data/X_test_small.csv')\n",
    "y_train_small = pd.read_csv('../split_data/y_train_small.csv')\n",
    "y_test_small = pd.read_csv('../split_data/y_test_small.csv')\n",
    "\n",
    "X_train_mid = pd.read_csv('../split_data/X_train_mid.csv')\n",
    "X_test_mid = pd.read_csv('../split_data/X_test_mid.csv')\n",
    "y_train_mid = pd.read_csv('../split_data/y_train_mid.csv')\n",
    "y_test_mid = pd.read_csv('../split_data/y_test_mid.csv')\n",
    "\n",
    "X_train_full = pd.read_csv('../split_data/X_train_full.csv')\n",
    "X_test_full = pd.read_csv('../split_data/X_test_full.csv')\n",
    "y_train_full = pd.read_csv('../split_data/y_train_full.csv')\n",
    "y_test_full = pd.read_csv('../split_data/y_test_full.csv')"
   ]
  },
  {
   "cell_type": "code",
   "execution_count": 7,
   "metadata": {},
   "outputs": [
    {
     "name": "stderr",
     "output_type": "stream",
     "text": [
      "C:\\Users\\jakub\\AppData\\Local\\Temp\\ipykernel_5208\\841974457.py:3: DataConversionWarning: A column-vector y was passed when a 1d array was expected. Please change the shape of y to (n_samples,), for example using ravel().\n",
      "  model.fit(X_train_small, y_train_small)\n"
     ]
    },
    {
     "name": "stdout",
     "output_type": "stream",
     "text": [
      "MAE: 0.02\n",
      "MSE: 0.04\n",
      "RMSE: 0.21\n",
      "R2: 1.00\n"
     ]
    }
   ],
   "source": [
    "####  Train and test model with 4 features  ####\n",
    "model = RandomForestRegressor()\n",
    "model.fit(X_train_small, y_train_small)\n",
    "\n",
    "y_pred_small = model.predict(X_test_small)\n",
    "\n",
    "mae_small = mean_absolute_error(y_test_small, y_pred_small)\n",
    "mse_small = mean_squared_error(y_test_small, y_pred_small)\n",
    "rmse_small = mean_squared_error(y_test_small, y_pred_small, squared=False)\n",
    "r2_small = r2_score(y_test_small, y_pred_small)\n",
    "\n",
    "print('MAE: {:.2f}'.format(mae_small))\n",
    "print('MSE: {:.2f}'.format(mse_small))\n",
    "print('RMSE: {:.2f}'.format(rmse_small))\n",
    "print('R2: {:.2f}'.format(r2_small))"
   ]
  },
  {
   "cell_type": "code",
   "execution_count": 8,
   "metadata": {},
   "outputs": [
    {
     "name": "stderr",
     "output_type": "stream",
     "text": [
      "C:\\Users\\jakub\\AppData\\Local\\Temp\\ipykernel_5208\\438540901.py:3: DataConversionWarning: A column-vector y was passed when a 1d array was expected. Please change the shape of y to (n_samples,), for example using ravel().\n",
      "  model.fit(X_train_mid, y_train_mid)\n"
     ]
    },
    {
     "name": "stdout",
     "output_type": "stream",
     "text": [
      "MAE: 0.03\n",
      "MSE: 0.05\n",
      "RMSE: 0.22\n",
      "R2: 1.00\n"
     ]
    }
   ],
   "source": [
    "####  Train and test model with 12 features  ####\n",
    "model = RandomForestRegressor()\n",
    "model.fit(X_train_mid, y_train_mid)\n",
    "\n",
    "y_pred_mid = model.predict(X_test_mid)\n",
    "\n",
    "mae_mid = mean_absolute_error(y_test_mid, y_pred_mid)\n",
    "mse_mid = mean_squared_error(y_test_mid, y_pred_mid)\n",
    "rmse_mid = mean_squared_error(y_test_mid, y_pred_mid, squared=False)\n",
    "r2_mid = r2_score(y_test_mid, y_pred_mid)\n",
    "\n",
    "print('MAE: {:.2f}'.format(mae_mid))\n",
    "print('MSE: {:.2f}'.format(mse_mid))\n",
    "print('RMSE: {:.2f}'.format(rmse_mid))\n",
    "print('R2: {:.2f}'.format(r2_mid))"
   ]
  },
  {
   "cell_type": "code",
   "execution_count": 9,
   "metadata": {},
   "outputs": [
    {
     "name": "stderr",
     "output_type": "stream",
     "text": [
      "C:\\Users\\jakub\\AppData\\Local\\Temp\\ipykernel_5208\\1424260768.py:3: DataConversionWarning: A column-vector y was passed when a 1d array was expected. Please change the shape of y to (n_samples,), for example using ravel().\n",
      "  model.fit(X_train_full, y_train_full)\n"
     ]
    },
    {
     "name": "stdout",
     "output_type": "stream",
     "text": [
      "MAE: 0.02\n",
      "MSE: 0.03\n",
      "RMSE: 0.17\n",
      "R2: 1.00\n"
     ]
    }
   ],
   "source": [
    "####  Train and test model with 25 features  ####\n",
    "model = RandomForestRegressor()\n",
    "model.fit(X_train_full, y_train_full)\n",
    "\n",
    "y_pred_full = model.predict(X_test_full)\n",
    "\n",
    "mae_full = mean_absolute_error(y_test_full, y_pred_full)\n",
    "mse_full = mean_squared_error(y_test_full, y_pred_full)\n",
    "rmse_full = mean_squared_error(y_test_full, y_pred_full, squared=False)\n",
    "r2_full = r2_score(y_test_full, y_pred_full)\n",
    "\n",
    "print('MAE: {:.2f}'.format(mae_full))\n",
    "print('MSE: {:.2f}'.format(mse_full))\n",
    "print('RMSE: {:.2f}'.format(rmse_full))\n",
    "print('R2: {:.2f}'.format(r2_full))"
   ]
  }
 ],
 "metadata": {
  "kernelspec": {
   "display_name": ".venv",
   "language": "python",
   "name": "python3"
  },
  "language_info": {
   "codemirror_mode": {
    "name": "ipython",
    "version": 3
   },
   "file_extension": ".py",
   "mimetype": "text/x-python",
   "name": "python",
   "nbconvert_exporter": "python",
   "pygments_lexer": "ipython3",
   "version": "3.9.13"
  },
  "orig_nbformat": 4
 },
 "nbformat": 4,
 "nbformat_minor": 2
}
