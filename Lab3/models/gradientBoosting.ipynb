{
 "cells": [
  {
   "cell_type": "code",
   "execution_count": 17,
   "metadata": {},
   "outputs": [],
   "source": [
    "import pandas as pd\n",
    "from sklearn.linear_model import LinearRegression\n",
    "from sklearn.metrics import mean_absolute_error, mean_squared_error, r2_score"
   ]
  },
  {
   "cell_type": "code",
   "execution_count": 18,
   "metadata": {},
   "outputs": [],
   "source": [
    "X_train_small = pd.read_csv('../split_data/X_train_small.csv')\n",
    "X_test_small = pd.read_csv('../split_data/X_test_small.csv')\n",
    "y_train_small = pd.read_csv('../split_data/y_train_small.csv')\n",
    "y_test_small = pd.read_csv('../split_data/y_test_small.csv')\n",
    "\n",
    "X_train_mid = pd.read_csv('../split_data/X_train_mid.csv')\n",
    "X_test_mid = pd.read_csv('../split_data/X_test_mid.csv')\n",
    "y_train_mid = pd.read_csv('../split_data/y_train_mid.csv')\n",
    "y_test_mid = pd.read_csv('../split_data/y_test_mid.csv')\n",
    "\n",
    "X_train_full = pd.read_csv('../split_data/X_train_full.csv')\n",
    "X_test_full = pd.read_csv('../split_data/X_test_full.csv')\n",
    "y_train_full = pd.read_csv('../split_data/y_train_full.csv')\n",
    "y_test_full = pd.read_csv('../split_data/y_test_full.csv')"
   ]
  },
  {
   "cell_type": "code",
   "execution_count": 19,
   "metadata": {},
   "outputs": [
    {
     "name": "stdout",
     "output_type": "stream",
     "text": [
      "MAE: 9.05\n",
      "MSE: 105.44\n",
      "RMSE: 10.27\n",
      "R2: 0.14\n"
     ]
    }
   ],
   "source": [
    "####  Train and test model with 4 features  ####\n",
    "model = LinearRegression()\n",
    "model.fit(X_train_small, y_train_small)\n",
    "\n",
    "y_pred_small = model.predict(X_test_small)\n",
    "\n",
    "mae_small = mean_absolute_error(y_test_small, y_pred_small)\n",
    "mse_small = mean_squared_error(y_test_small, y_pred_small)\n",
    "rmse_small = mean_squared_error(y_test_small, y_pred_small, squared=False)\n",
    "r2_small = r2_score(y_test_small, y_pred_small)\n",
    "\n",
    "print('MAE: {:.2f}'.format(mae_small))\n",
    "print('MSE: {:.2f}'.format(mse_small))\n",
    "print('RMSE: {:.2f}'.format(rmse_small))\n",
    "print('R2: {:.2f}'.format(r2_small))"
   ]
  },
  {
   "cell_type": "code",
   "execution_count": 20,
   "metadata": {},
   "outputs": [
    {
     "name": "stdout",
     "output_type": "stream",
     "text": [
      "MAE: 8.67\n",
      "MSE: 99.41\n",
      "RMSE: 9.97\n",
      "R2: 0.19\n"
     ]
    }
   ],
   "source": [
    "####  Train and test model with 12 features  ####\n",
    "model = LinearRegression()\n",
    "model.fit(X_train_mid, y_train_mid)\n",
    "\n",
    "y_pred_mid = model.predict(X_test_mid)\n",
    "\n",
    "mae_mid = mean_absolute_error(y_test_mid, y_pred_mid)\n",
    "mse_mid = mean_squared_error(y_test_mid, y_pred_mid)\n",
    "rmse_mid = mean_squared_error(y_test_mid, y_pred_mid, squared=False)\n",
    "r2_mid = r2_score(y_test_mid, y_pred_mid)\n",
    "\n",
    "print('MAE: {:.2f}'.format(mae_mid))\n",
    "print('MSE: {:.2f}'.format(mse_mid))\n",
    "print('RMSE: {:.2f}'.format(rmse_mid))\n",
    "print('R2: {:.2f}'.format(r2_mid))"
   ]
  },
  {
   "cell_type": "code",
   "execution_count": 21,
   "metadata": {},
   "outputs": [
    {
     "name": "stdout",
     "output_type": "stream",
     "text": [
      "MAE: 8.25\n",
      "MSE: 90.98\n",
      "RMSE: 9.54\n",
      "R2: 0.26\n"
     ]
    }
   ],
   "source": [
    "####  Train and test model with 25 features  ####\n",
    "model = LinearRegression()\n",
    "model.fit(X_train_full, y_train_full)\n",
    "\n",
    "y_pred_full = model.predict(X_test_full)\n",
    "\n",
    "mae_full = mean_absolute_error(y_test_full, y_pred_full)\n",
    "mse_full = mean_squared_error(y_test_full, y_pred_full)\n",
    "rmse_full = mean_squared_error(y_test_full, y_pred_full, squared=False)\n",
    "r2_full = r2_score(y_test_full, y_pred_full)\n",
    "\n",
    "print('MAE: {:.2f}'.format(mae_full))\n",
    "print('MSE: {:.2f}'.format(mse_full))\n",
    "print('RMSE: {:.2f}'.format(rmse_full))\n",
    "print('R2: {:.2f}'.format(r2_full))"
   ]
  }
 ],
 "metadata": {
  "kernelspec": {
   "display_name": ".venv",
   "language": "python",
   "name": "python3"
  },
  "language_info": {
   "codemirror_mode": {
    "name": "ipython",
    "version": 3
   },
   "file_extension": ".py",
   "mimetype": "text/x-python",
   "name": "python",
   "nbconvert_exporter": "python",
   "pygments_lexer": "ipython3",
   "version": "3.9.13"
  },
  "orig_nbformat": 4
 },
 "nbformat": 4,
 "nbformat_minor": 2
}
