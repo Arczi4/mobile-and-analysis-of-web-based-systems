{
 "cells": [
  {
   "cell_type": "code",
   "execution_count": 1,
   "metadata": {},
   "outputs": [],
   "source": [
    "import os\n",
    "import pandas as pd\n",
    "from sklearn.model_selection import train_test_split"
   ]
  },
  {
   "cell_type": "code",
   "execution_count": 2,
   "metadata": {},
   "outputs": [
    {
     "name": "stdout",
     "output_type": "stream",
     "text": [
      "(256800, 22)\n"
     ]
    }
   ],
   "source": [
    "####  Generate .csv files with 22 features  ####\n",
    "df = pd.read_csv(os.path.join('data', 'merged_download.csv'), index_col=False)\n",
    "df = df.drop(['mcs0','mcs1', 'operator'], axis=1)\n",
    "print(df.shape)\n",
    "X = df.drop('speed', axis=1)\n",
    "y = df['speed']\n",
    "\n",
    "X_train, X_test, y_train, y_test = train_test_split(X, y, test_size=0.2, random_state=42)\n",
    "\n",
    "X_train.to_csv('split_data/X_train_full.csv', index=False)\n",
    "X_test.to_csv('split_data/X_test_full.csv', index=False)\n",
    "y_train.to_csv('split_data/y_train_full.csv', index=False)\n",
    "y_test.to_csv('split_data/y_test_full.csv', index=False)"
   ]
  },
  {
   "cell_type": "code",
   "execution_count": 3,
   "metadata": {},
   "outputs": [
    {
     "name": "stdout",
     "output_type": "stream",
     "text": [
      "(256800, 12)\n"
     ]
    }
   ],
   "source": [
    "####  Generate .csv files with 12 features  ####\n",
    "df = pd.read_csv(os.path.join('data', 'merged_download.csv'), index_col=False)\n",
    "df = df.drop(['chipsettime','cellid','gpstime','rnti','throughput','rb0','rb1', 'caindex','scc','rsrq','mcs0','mcs1','operator'], axis=1)\n",
    "print(df.shape)\n",
    "X = df.drop('speed', axis=1)\n",
    "y = df['speed']\n",
    "\n",
    "X_train, X_test, y_train, y_test = train_test_split(X, y, test_size=0.2, random_state=42)\n",
    "\n",
    "X_train.to_csv('split_data/X_train_mid.csv', index=False)\n",
    "X_test.to_csv('split_data/X_test_mid.csv', index=False)\n",
    "y_train.to_csv('split_data/y_train_mid.csv', index=False)\n",
    "y_test.to_csv('split_data/y_test_mid.csv', index=False)"
   ]
  },
  {
   "cell_type": "code",
   "execution_count": 4,
   "metadata": {},
   "outputs": [
    {
     "name": "stdout",
     "output_type": "stream",
     "text": [
      "(256800, 5)\n"
     ]
    }
   ],
   "source": [
    "####  Generate .csv files with 4 features  ####\n",
    "df = pd.read_csv(os.path.join('data', 'merged_download.csv'), index_col=False)\n",
    "df = df.drop(['chipsettime','cellid','gpstime','rnti','throughput','rb0','rb1', 'caindex','scc','rsrq','mcs0','mcs1','operator', 'mimo', 'mcsindex', 'tbs0', 'tbs1', 'rsrp', 'rssi', 'cqi'], axis=1)\n",
    "print(df.shape)\n",
    "X = df.drop('speed', axis=1)\n",
    "y = df['speed']\n",
    "\n",
    "X_train, X_test, y_train, y_test = train_test_split(X, y, test_size=0.2, random_state=42)\n",
    "\n",
    "X_train.to_csv('split_data/X_train_small.csv', index=False)\n",
    "X_test.to_csv('split_data/X_test_small.csv', index=False)\n",
    "y_train.to_csv('split_data/y_train_small.csv', index=False)\n",
    "y_test.to_csv('split_data/y_test_small.csv', index=False)"
   ]
  }
 ],
 "metadata": {
  "kernelspec": {
   "display_name": ".venv",
   "language": "python",
   "name": "python3"
  },
  "language_info": {
   "codemirror_mode": {
    "name": "ipython",
    "version": 3
   },
   "file_extension": ".py",
   "mimetype": "text/x-python",
   "name": "python",
   "nbconvert_exporter": "python",
   "pygments_lexer": "ipython3",
   "version": "3.9.13"
  },
  "orig_nbformat": 4
 },
 "nbformat": 4,
 "nbformat_minor": 2
}
